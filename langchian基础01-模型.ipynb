{
 "cells": [
  {
   "cell_type": "markdown",
   "metadata": {},
   "source": [
    "langchian包含组件，先来看最基础的'model'组件如何使用，langchian默认使用openai，这里我们先安装ollama，在本地使用llm模型"
   ]
  },
  {
   "cell_type": "code",
   "execution_count": 1,
   "metadata": {},
   "outputs": [],
   "source": [
    "from langchain_ollama import ChatOllama\n",
    "# 初始化Ollama LLM，注意需要后台开启ollama服务\n",
    "model_name = \"qwen2.5:latest\"\n",
    "model  = ChatOllama(model=model_name,base_url='http://localhost:11434')"
   ]
  },
  {
   "cell_type": "markdown",
   "metadata": {},
   "source": [
    "Langchain 提供统一标准的接口使用对话模型，一个简单的调用是向其传递\"消息数组\""
   ]
  },
  {
   "cell_type": "code",
   "execution_count": 2,
   "metadata": {},
   "outputs": [
    {
     "name": "stdout",
     "output_type": "stream",
     "text": [
      "你好！很高兴认识你，广州的小五。有什么问题或需要帮助的吗？无论是旅行建议、美食推荐还是其他信息查询，都可以告诉我哦！\n"
     ]
    }
   ],
   "source": [
    "from langchain_core.messages import HumanMessage\n",
    "\n",
    "response=model.invoke([HumanMessage(content=\"你好，我是广州小五\")])\n",
    "print(response.content)"
   ]
  },
  {
   "cell_type": "markdown",
   "metadata": {},
   "source": [
    "此时如果再次向模型提问\"我的名字\"，模型并不清楚"
   ]
  },
  {
   "cell_type": "code",
   "execution_count": 3,
   "metadata": {},
   "outputs": [
    {
     "name": "stdout",
     "output_type": "stream",
     "text": [
      "您的名字我没有直接的信息来回答，但在我们的对话开始前，您没有提及具体的名字。如果您愿意告诉我您的名字，我很乐意认识您！在我们的对话记录中，默认情况下我是不会保存任何个人信息的。\n"
     ]
    }
   ],
   "source": [
    "response=model.invoke([HumanMessage(content=\"我的名字是？\")])\n",
    "print(response.content)"
   ]
  },
  {
   "cell_type": "markdown",
   "metadata": {},
   "source": [
    "如果把之前聊天纪录传递过去，模型可以正确回答问题"
   ]
  },
  {
   "cell_type": "code",
   "execution_count": 4,
   "metadata": {},
   "outputs": [
    {
     "name": "stdout",
     "output_type": "stream",
     "text": [
      "你的名字是“小五”。如果你有更多想要了解的问题或者需要帮助的事情，请随时告诉我！\n"
     ]
    }
   ],
   "source": [
    "from langchain_core.messages import AIMessage\n",
    "\n",
    "response=model.invoke(\n",
    "    [\n",
    "        HumanMessage(content=\"你好，我是广州小五\"),\n",
    "        AIMessage(content=\"你好！很高兴认识你，广州的小五。有什么我可以帮助你的吗？无论是信息查询、学习资料需求还是其他问题，都欢迎你提问。\"),\n",
    "        HumanMessage(content=\"我的名字是？\"),\n",
    "    ]\n",
    ")\n",
    "\n",
    "print(response.content)"
   ]
  },
  {
   "cell_type": "markdown",
   "metadata": {},
   "source": [
    "[Chat models | 🦜️🔗 LangChain](https://python.langchain.com/docs/integrations/chat/) 包含众多对话模型，可以直接使用"
   ]
  }
 ],
 "metadata": {
  "kernelspec": {
   "display_name": "langchian",
   "language": "python",
   "name": "python3"
  },
  "language_info": {
   "codemirror_mode": {
    "name": "ipython",
    "version": 3
   },
   "file_extension": ".py",
   "mimetype": "text/x-python",
   "name": "python",
   "nbconvert_exporter": "python",
   "pygments_lexer": "ipython3",
   "version": "3.10.14"
  }
 },
 "nbformat": 4,
 "nbformat_minor": 2
}
