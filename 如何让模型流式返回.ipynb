{
 "cells": [
  {
   "cell_type": "markdown",
   "metadata": {},
   "source": [
    "LLMs运行时，会不断把已经输出的内容追加到下次输入，直至遇到停止符号。所以对于输出很长的内容，用户需要等待很久，langchain的大部分组件支持流式返回结果，相当于python中print设置了flush=False"
   ]
  },
  {
   "cell_type": "code",
   "execution_count": 10,
   "metadata": {},
   "outputs": [
    {
     "name": "stdout",
     "output_type": "stream",
     "text": [
      ">>>>>>>>>>>>>>>>>>>>"
     ]
    }
   ],
   "source": [
    "import time\n",
    "for i in range(20):\n",
    "    print('>',end='',flush=True)\n",
    "    time.sleep(0.2)"
   ]
  },
  {
   "cell_type": "code",
   "execution_count": 9,
   "metadata": {},
   "outputs": [
    {
     "name": "stdout",
     "output_type": "stream",
     "text": [
      "The color of the sky can vary depending on the time of day, weather conditions, and other factors. During clear sunny days, the sky is usually blue due to a phenomenon called Rayleigh scattering, where shorter wavelengths (like blue) scatter more than longer wavelengths (like red). However, at sunrise or sunset, the sky often takes on a variety of colors such as pink, orange, and purple because the light has to travel through more of the Earth's atmosphere. On overcast days, the sky can appear gray or white due to clouds scattering the sunlight evenly in all directions.\n"
     ]
    }
   ],
   "source": [
    "from langchain_ollama import ChatOllama\n",
    "# 初始化Ollama LLM，注意需要后台开启ollama服务\n",
    "model_name = \"qwen2.5:7b\"\n",
    "llm  = ChatOllama(model=model_name)\n",
    "\n",
    "# 非流式输出\n",
    "query = \"what color is the sky?\"\n",
    "response=llm.invoke(query)\n",
    "print(response.content)"
   ]
  },
  {
   "cell_type": "code",
   "execution_count": 11,
   "metadata": {},
   "outputs": [
    {
     "name": "stdout",
     "output_type": "stream",
     "text": [
      "The| color| of| the| sky| can| vary| depending| on| the| time| of| day|,| weather| conditions|,| and| other| factors|.| Generally|,| during| clear| days| with| no| clouds|,| the| sky| appears| blue| due| to| a| phenomenon| called| Ray|leigh| scattering|,| where| shorter| (|blue|)| wavelengths| of| light| are| scattered| more| by| the| gases| and| particles| in| the| Earth|'s| atmosphere|.| However|,| the| sky| can| take| on| different| colors| at| sunrise| or| sunset|,| appearing| orange|,| pink|,| red|,| or| purple| because| the| light| has| to| travel| through| more| atmosphere|,| which| sc|atters| out| the| blue| and| green| wavelengths|,| leaving| mostly| the| red|s| and| oranges|.| During| cloudy| days|,| the| sky| might| appear| white| or| grey| due| to| the| clouds| reflecting| sunlight| in| all| directions|.||"
     ]
    }
   ],
   "source": [
    "for chunk in llm.stream(\"what color is the sky?\"):\n",
    "    print(chunk.content, end=\"|\", flush=True)"
   ]
  }
 ],
 "metadata": {
  "kernelspec": {
   "display_name": "py39",
   "language": "python",
   "name": "python3"
  },
  "language_info": {
   "codemirror_mode": {
    "name": "ipython",
    "version": 3
   },
   "file_extension": ".py",
   "mimetype": "text/x-python",
   "name": "python",
   "nbconvert_exporter": "python",
   "pygments_lexer": "ipython3",
   "version": "3.9.12"
  }
 },
 "nbformat": 4,
 "nbformat_minor": 2
}
