{
 "cells": [
  {
   "cell_type": "markdown",
   "metadata": {},
   "source": [
    "单独的大模型只能给出文本信息，没有后续操作，langchain可以通过定义“工具调用”的过程，响应LLMs的输出，扩展其能力。下面是为LLMs绑定工具的过程"
   ]
  },
  {
   "cell_type": "code",
   "execution_count": 1,
   "metadata": {},
   "outputs": [
    {
     "data": {
      "text/plain": [
       "('我们分别计算这两个表达式：\\n\\n1. 对于乘法表达式 \\\\(961 \\\\times 590\\\\)，我们可以直接进行计算：\\n\\\\[961 \\\\times 590 = 567990\\\\]\\n\\n2. 对于加法表达式 \\\\(11654 + 43249\\\\)，同样直接相加以得出结果：\\n\\\\[11654 + 43249 = 54903\\\\]\\n\\n所以，两个计算的结果分别是567990和54903。',\n",
       " 566990,\n",
       " 54903)"
      ]
     },
     "execution_count": 1,
     "metadata": {},
     "output_type": "execute_result"
    }
   ],
   "source": [
    "from langchain_ollama import ChatOllama\n",
    "# 初始化Ollama LLM，注意需要后台开启ollama服务\n",
    "model_name = \"qwen2.5:latest\"\n",
    "llm  = ChatOllama(model=model_name)\n",
    "\n",
    "query = \"961 * 590?和11654 + 43249?的结果\"\n",
    "response=llm.invoke(query)\n",
    "response.content,961 * 590,11654 + 43249"
   ]
  },
  {
   "cell_type": "code",
   "execution_count": 2,
   "metadata": {},
   "outputs": [
    {
     "data": {
      "text/plain": [
       "('',\n",
       " [{'name': 'multiply',\n",
       "   'args': {'a': 961, 'b': 590},\n",
       "   'id': 'e0a9ae39-6d22-4e16-a703-2c098fbcd0e9',\n",
       "   'type': 'tool_call'}])"
      ]
     },
     "execution_count": 2,
     "metadata": {},
     "output_type": "execute_result"
    }
   ],
   "source": [
    "from langchain_core.tools import tool\n",
    "\n",
    "@tool\n",
    "def add(a: int, b: int) -> int:\n",
    "    \"\"\"Adds a and b.\"\"\"\n",
    "    return a + b\n",
    "\n",
    "@tool\n",
    "def multiply(a: int, b: int) -> int:\n",
    "    \"\"\"Multiplies a and b.\"\"\"\n",
    "    return a * b\n",
    "\n",
    "tools = [add, multiply]\n",
    "llm_with_tools = llm.bind_tools(tools) # 为LLMs绑定工具\n",
    "query = \"961 * 590?的结果\"\n",
    "response=llm_with_tools.invoke(query)\n",
    "response.content,response.tool_calls"
   ]
  },
  {
   "cell_type": "markdown",
   "metadata": {},
   "source": [
    "为LLMs绑定工具后，不像前面一样直接给出了答案(content=\"\")，而且多了信息输出\"'tool_calls': [{'function': {'name': 'multiply', 'arguments': {'a': 3, 'b': 12}}}]\"，这里LLMs通过query“找到要调用的函数及其输入参数”，对于多个问答也被解析出来。这里就很神奇LLMs知道自己要执行的函数，实际上它是根据函数名去匹配的。以下即使提问多个实例，也可以被正确解析"
   ]
  },
  {
   "cell_type": "code",
   "execution_count": 3,
   "metadata": {},
   "outputs": [
    {
     "data": {
      "text/plain": [
       "[{'name': 'multiply',\n",
       "  'args': {'a': 961, 'b': 590},\n",
       "  'id': 'b831b71c-cf46-4200-b22e-df991f9fca16',\n",
       "  'type': 'tool_call'},\n",
       " {'name': 'add',\n",
       "  'args': {'a': 11654, 'b': 43249},\n",
       "  'id': '53ea47e6-031e-4f18-b745-e074f3b8e59b',\n",
       "  'type': 'tool_call'}]"
      ]
     },
     "execution_count": 3,
     "metadata": {},
     "output_type": "execute_result"
    }
   ],
   "source": [
    "query = \"961 * 590?和11654 + 43249?的结果\"\n",
    "\n",
    "response=llm_with_tools.invoke(query)\n",
    "response.tool_calls"
   ]
  },
  {
   "cell_type": "markdown",
   "metadata": {},
   "source": [
    "以上调用LLMs只返回了“待调用的函数及参数”，并没有真正执行计算，也就是没有得到最终结果。为了得到最终结果，需要调用外部函数计算，然后将计算结果再次返回给LLMs，进行最后的总结"
   ]
  },
  {
   "cell_type": "code",
   "execution_count": 4,
   "metadata": {},
   "outputs": [
    {
     "name": "stdout",
     "output_type": "stream",
     "text": [
      "[HumanMessage(content='961 * 590?和11654 + 43249?的结果', additional_kwargs={}, response_metadata={})]\n",
      "content='' additional_kwargs={} response_metadata={'model': 'qwen2.5:latest', 'created_at': '2024-12-01T08:04:14.6225541Z', 'done': True, 'done_reason': 'stop', 'total_duration': 2700687500, 'load_duration': 42063200, 'prompt_eval_count': 241, 'prompt_eval_duration': 5000000, 'eval_count': 104, 'eval_duration': 2648000000, 'message': Message(role='assistant', content='', images=None, tool_calls=[ToolCall(function=Function(name='multiply', arguments={'a': 961, 'b': 590})), ToolCall(function=Function(name='add', arguments={'a': 11654, 'b': 43249}))])} id='run-36f8ee4b-cb15-4d0d-bada-7d3627d4aebb-0' tool_calls=[{'name': 'multiply', 'args': {'a': 961, 'b': 590}, 'id': 'e7274d80-b843-4d4c-9fb8-9f39e9720f60', 'type': 'tool_call'}, {'name': 'add', 'args': {'a': 11654, 'b': 43249}, 'id': '1bef98c8-473f-4bc7-bdc7-33ca775fb566', 'type': 'tool_call'}] usage_metadata={'input_tokens': 241, 'output_tokens': 104, 'total_tokens': 345}\n",
      "[{'name': 'multiply', 'args': {'a': 961, 'b': 590}, 'id': 'e7274d80-b843-4d4c-9fb8-9f39e9720f60', 'type': 'tool_call'}, {'name': 'add', 'args': {'a': 11654, 'b': 43249}, 'id': '1bef98c8-473f-4bc7-bdc7-33ca775fb566', 'type': 'tool_call'}]\n"
     ]
    }
   ],
   "source": [
    "from langchain_core.messages import HumanMessage\n",
    "\n",
    "query = \"961 * 590?和11654 + 43249?的结果\"\n",
    "messages = [HumanMessage(query)]\n",
    "print(messages)\n",
    "\n",
    "ai_msg = llm_with_tools.invoke(messages)\n",
    "print(ai_msg) # AIMessage类\n",
    "print(ai_msg.tool_calls)"
   ]
  },
  {
   "cell_type": "markdown",
   "metadata": {},
   "source": [
    "LLMs解析出输入query要执行的函数，以下遍历调用拿到结果，并结果信息收集和之前的输入合并"
   ]
  },
  {
   "cell_type": "code",
   "execution_count": 5,
   "metadata": {},
   "outputs": [
    {
     "name": "stdout",
     "output_type": "stream",
     "text": [
      "{'name': 'multiply', 'args': {'a': 961, 'b': 590}, 'id': 'b831b71c-cf46-4200-b22e-df991f9fca16', 'type': 'tool_call'} content='566990' name='multiply' tool_call_id='b831b71c-cf46-4200-b22e-df991f9fca16'\n",
      "{'name': 'add', 'args': {'a': 11654, 'b': 43249}, 'id': '53ea47e6-031e-4f18-b745-e074f3b8e59b', 'type': 'tool_call'} content='54903' name='add' tool_call_id='53ea47e6-031e-4f18-b745-e074f3b8e59b'\n",
      "[HumanMessage(content='961 * 590?和11654 + 43249?的结果', additional_kwargs={}, response_metadata={}), ToolMessage(content='566990', name='multiply', tool_call_id='b831b71c-cf46-4200-b22e-df991f9fca16'), ToolMessage(content='54903', name='add', tool_call_id='53ea47e6-031e-4f18-b745-e074f3b8e59b')]\n"
     ]
    }
   ],
   "source": [
    "for tool_call in response.tool_calls:\n",
    "    selected_tool = {\"add\": add, \"multiply\": multiply}[tool_call[\"name\"].lower()]\n",
    "    tool_msg = selected_tool.invoke(tool_call)\n",
    "    print(tool_call,tool_msg) # AIMessage类 \n",
    "    messages.append(tool_msg)\n",
    "\n",
    "print(messages)"
   ]
  },
  {
   "cell_type": "markdown",
   "metadata": {},
   "source": [
    "合并后的信息再次输入LLMs，综合输出结果"
   ]
  },
  {
   "cell_type": "code",
   "execution_count": 6,
   "metadata": {},
   "outputs": [
    {
     "data": {
      "text/plain": [
       "('The multiplication of 961 and 590 is 566,990.\\n\\nAnd the addition of 11,654 and 43,249 is 54,903.',\n",
       " 566990,\n",
       " 54903)"
      ]
     },
     "execution_count": 6,
     "metadata": {},
     "output_type": "execute_result"
    }
   ],
   "source": [
    "response=llm_with_tools.invoke(messages)\n",
    "response.content,961 * 590,11654 + 43249"
   ]
  },
  {
   "cell_type": "markdown",
   "metadata": {},
   "source": [
    "即使是组合运算，LLMs也能解析出来要调用的函数，langchain真的神奇"
   ]
  },
  {
   "cell_type": "code",
   "execution_count": 8,
   "metadata": {},
   "outputs": [
    {
     "name": "stdout",
     "output_type": "stream",
     "text": [
      "[{'name': 'multiply', 'args': {'a': 11, 'b': 2}, 'id': '3a213d29-1df2-44ca-9297-500d5254f41d', 'type': 'tool_call'}]\n"
     ]
    }
   ],
   "source": [
    "query = \"11*2 + 49的结果\"\n",
    "response=llm_with_tools.invoke(query)\n",
    "print(response.tool_calls)"
   ]
  }
 ],
 "metadata": {
  "kernelspec": {
   "display_name": "base",
   "language": "python",
   "name": "python3"
  },
  "language_info": {
   "codemirror_mode": {
    "name": "ipython",
    "version": 3
   },
   "file_extension": ".py",
   "mimetype": "text/x-python",
   "name": "python",
   "nbconvert_exporter": "python",
   "pygments_lexer": "ipython3",
   "version": "3.10.14"
  }
 },
 "nbformat": 4,
 "nbformat_minor": 4
}
