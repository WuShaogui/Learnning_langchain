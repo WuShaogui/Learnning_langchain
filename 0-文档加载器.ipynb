{
 "cells": [
  {
   "cell_type": "markdown",
   "metadata": {},
   "source": [
    "使用langchain的文档加载器，从各类数据源加载数据，加载后的数据变为一个Document对象，对象内部包含一段文本及相关元数据\n",
    "\n",
    "文档加载器提供函数load及lazy_load加载数据为Document对象，前者立马加载数据到内存，后者延迟加载"
   ]
  },
  {
   "cell_type": "markdown",
   "metadata": {},
   "source": [
    "# 加载.txt、.md文件"
   ]
  },
  {
   "cell_type": "code",
   "execution_count": 6,
   "metadata": {},
   "outputs": [
    {
     "name": "stdout",
     "output_type": "stream",
     "text": [
      "{'source': './documents/三国演义.txt'}\n"
     ]
    }
   ],
   "source": [
    "from langchain.document_loaders import TextLoader\n",
    "\n",
    "# 定义文本加载器，指定读取的文件路径\n",
    "loader = TextLoader(\"./documents/三国演义.txt\")\n",
    "documents=loader.load()\n",
    "print(documents[0].metadata)"
   ]
  },
  {
   "cell_type": "markdown",
   "metadata": {},
   "source": [
    "# 加载pdf"
   ]
  },
  {
   "cell_type": "code",
   "execution_count": 7,
   "metadata": {},
   "outputs": [
    {
     "name": "stdout",
     "output_type": "stream",
     "text": [
      "{'source': './documents/奖惩管理制度.pdf', 'page': 0}\n"
     ]
    }
   ],
   "source": [
    "from langchain.document_loaders import PyPDFLoader\n",
    "\n",
    "# 定义文本加载器，指定读取的文件路径\n",
    "loader = PyPDFLoader(\"./documents/奖惩管理制度.pdf\")\n",
    "documents=loader.load()\n",
    "print(documents[0].metadata)"
   ]
  },
  {
   "cell_type": "code",
   "execution_count": 8,
   "metadata": {},
   "outputs": [
    {
     "data": {
      "text/plain": [
       "[Document(metadata={'source': './documents/奖惩管理制度.pdf', 'page': 0}, page_content='          \\n员工奖惩管理制度  文件编号  WI-HR-008 \\n版本 A0 页码  1 of 7 \\n \\n编制：潘玉华                 审核：许杨雄                    批准：张权                   生效日期： 2022-09-20 文件更改摘要  \\n日期 旧版本  新版本 修订说明  修订人  审核人  批准人  \\n2022-09-19  A0 新编 潘玉华 许杨雄  张权 \\n       \\n       \\n \\n1.0 目的 \\n维护公司正常的工作秩序、纪律和各项规章制度，表彰员工在工作中的突出表现和贡献，激\\n励员工的积极性和创造性，以及对有不良行为的员工进行问责惩戒，提升管理效能。  \\n2.0 适用范围  \\n本制度适用于公司全体员工。  \\n3.0 职责 \\n3.1 总经理：  \\n3.1.1  负责公司奖惩管理制度修订审批；  \\n3.1.2  负责公司员工奖惩结果和重大奖惩事项的签批。  \\n3.2 人力资源中心：  \\n3.2.1  负责奖惩管理制度的修订、完善及监督实施；  \\n3.2.2  负责对应受惩戒的行为、事件进行调查定案，划分事件责任，明确责任人及其过失责  \\n任，对重大奖惩事件的受理、审核和上报相关单位；  \\n3.2.3  负责调查、审核部门上报的员工奖惩事件真实性、合理性，核查员工申诉事实并提出\\n裁决意见；  \\n3.2.4  负责员工奖惩档案的建档管理 ;  \\n3.2.5  对触犯法律的行为、事件移交司法机关处理。  \\n3.3 各部门：  \\n3.3.1  各部门负责人负责本部门员工的奖惩提报；  \\n3.3.2  各部门各级管理人员，作为所辖员工的规范管理责任人，有责任和义务督促员工遵规\\n守纪，并依照公司相关制度规定及法律法规对所辖员工进行奖励或惩戒，提报奖惩情况，并\\n积极配合人力资源中心开展奖惩事实调查及奖惩结果执行工作。  \\n4.0 定义 \\n4.1 损失的定义：损失包括直接损失、间接损失及预期利益损失等。  \\n4.1.1  直接损失：因事故造成人身伤亡及善后处理支出的费用和毁坏财产的价值。  \\n4.1.2  间接损失：可得利益的丧失，即应当得到的利益因受侵权行为的侵害而没有得到。包'),\n",
       " Document(metadata={'source': './documents/奖惩管理制度.pdf', 'page': 1}, page_content='          \\n员工奖惩管理制度  文件编号  WI-HR-008 \\n版本 A0 页码  2 of 7 \\n \\n编制：潘玉华                 审核：许杨雄                    批准：张权                   生效日期： 2022-09-20 括人身损害造成的间接损失、财物损害造成的间接损失及名誉损害造成的间接损失。  \\n4.1.3  预期利益损失：缔约时可以预见到的履行利益所产生的损失  \\n4.2 员工给公司造成损失的情形如下：  \\n4.2.1  员工未履行或未完全履行岗位职责，导致重要项目无法完成或出现重大错误，造成直\\n接或间接损失的  \\n4.2.2  员工违反相关约定（包括但不仅限于劳动合同约定、保密约定、竞业约定、会议决议\\n约定等）导致企业损失的  \\n4.2.3  员工泄漏用人单位商业秘密从而导致公司产生经济损失的  \\n4.2.4  员工有未尽职责的过失行为或者利用职务之便谋取私利的故意行为，使公司有形财\\n产、无形财产遭受损害的情形  \\n4.2.5  员工违反公 司的规章制度、作业程序、操作指引给公司造成损失的  \\n4.2.6  员工严重失职，营私舞弊，给用人单位造成重大损害的  \\n4.2.7  员工因不作为、不要求、导致自己或下属工作出现重大失误的  \\n4.2.8  员工隐瞒、欺诈等手段致使职责内的工作出现错误而造成损失的  \\n4.2.9  其他因员工本人原因直接或间接导致公司出现损失的行为  \\n4.3 损失类型包括：轻微损失、较大损失、重大损失、特大损失  \\n4.3.1  轻微损失：是指直接经济损失在 1000元以下及无人员受伤；  \\n4.3.2  较大损失：是指直接经济损失在 1000元以上10000元以下的或轻微受伤的；  \\n4.3.3  重大损失：是指直接经济损失在 10000元以上50000元以下或十级以上八级以下员工\\n伤残的；  \\n4.3.4  特大损失：指直接经济损失 50000元以上或造成八级以上员工伤残的；  \\n4.4 直接损失的范围包括：  \\n4.3.5  因过失或失职造成人身伤亡需善后处理的直接费用；  \\n4.3.6  因过失或失职造成公司财产损失时的财产价值。  \\n5.0 工作程序  \\n5.1 奖惩原则  \\n5.1.1  奖惩分明，有功必奖，有过必究 ;功过不相抵，奖励和惩戒独立处理；  \\n5.1.2  精神奖励和物质奖励相结合，行政处分和经济惩戒相结合；  \\n5.1.3  即时奖惩，效用最大化；  \\n5.2 惩罚换算方式  '),\n",
       " Document(metadata={'source': './documents/奖惩管理制度.pdf', 'page': 2}, page_content='          \\n员工奖惩管理制度  文件编号  WI-HR-008 \\n版本 A0 页码  3 of 7 \\n \\n编制：潘玉华                 审核：许杨雄                    批准：张权                   生效日期： 2022-09-20 全年度内累计批评三次等于记小过 一次;累计小过三次等于大过一次 ;累计记大过两次属于\\n严重违反公司规章制度，公司将无偿解除劳动合同。  \\n6.0 奖励 \\n6.1 对公司业务、项目或管理有特别贡献的团队及员工，具体奖励措施按照每年度发布年度表\\n彰方案执行。  \\n6.2 在某一方面具备专业技能，并经公司评定为 “内部培训导师 ”的员工，享受培训导师奖。  \\n6.3 为充分发挥员工的主人翁意识，鼓励广大员工积极献言献计献策，特订立合理化建议奖\\n励。 \\n6.3.1  员工提出的合理化建议采纳后并实施后即可获得提案奖，奖励金额 10-200元不等。  \\n6.3.2  每年末组织对采纳的提案进行评比，评出 “优秀案例奖 ”及“提案优秀个人奖 ”，在\\n员工大会上通报，奖励金额均为 1500-2000元不等。  \\n6.3.3  对需要跨部门协作才能完成提案，按年 度产生效益的 等级（总排名前 5提案）对从头\\n到尾都直接参与协作人的进行奖励 200元/人； \\n6.4 日常行为与先进事迹奖励分为 : 敬业奖、守护奖、星光奖、精英奖、卓越奖。奖励标准参\\n考以下规定执行：  \\n6.4.1  敬业奖：以书面的形式在公司范围内对员工的先进事迹进行宣扬，并奖励 100元； \\n6.4.2  守护奖：以书面的形式在公司范围内对员工的先进事迹进行宣扬，并奖励 200元； \\n6.4.3  星光奖：以书面的形式在公司范围内对员工的先进事迹进行宣扬，并奖励 500元； \\n6.4.4  精英奖：以 书面的形式以及荣誉证书在公司范围内对员工的先进事迹进行宣扬，并奖\\n励1000元； \\n6.4.5  卓越奖：以书面形式以及荣誉证书在公司范围内对员工的先进事迹进行宣扬，由总经\\n理决定奖项。  \\n7.0 处罚 \\n7.1 对于公司下达的各项任务，逾期未完成者 及各类违规违者 ，也将视情节给 予处罚。 \\n7.2 处罚类别：警告、通报批评、记小过、记大过、  解除劳动合同（辞退或开除） 。  \\n7.2.1  警告：对违纪行为开发警告处分，并减少其职责奖金 100元。 \\n7.2.2  通报批评：对违纪行为人在全公司范围内予以书面通报批评敬告，并减少其职责奖金\\n300元。 \\n7.2.3  记小过：对违纪行为人在全公司范围内予以书面通报批评，并减少其职责奖金或绩效\\n奖金500元。  '),\n",
       " Document(metadata={'source': './documents/奖惩管理制度.pdf', 'page': 3}, page_content='          \\n员工奖惩管理制度  文件编号  WI-HR-008 \\n版本 A0 页码  4 of 7 \\n \\n编制：潘玉华                 审核：许杨雄                    批准：张权                   生效日期： 2022-09-20 7.2.4  记大过：对违纪行为人在全公司范围内予以书面通报批评，并减少其职责奖金或绩效\\n奖金1000元。 \\n7.2.5  解除劳动合同：严重违纪达到公司各规章制度所规定程度，将被公司解除劳动合同\\n（辞退或开除） ，对违纪行为人在全公司范围内予以书面通报。  \\n7.3 有下列情况之一者，予以书面警告：  \\n7.3.1  上班时间消极怠工者：  \\n7.3.1.1  对日常合理安排的工作不能顺利完成 ； \\n7.3.1.2  对领导布置的临时性或 阶段性工作不积极响应，经口头警告生，仍不听从，或不\\n积极工作的，以及累犯者，视为消极怠工 ； \\n7.3.1.3  对下属工作不清楚，不能有效管理的，经口头警告后，仍不能有效管理的，视为\\n消极怠工 ； \\n7.3.1.4  经常上班时间睡觉，经提醒依旧不改者，视为消极怠工 ； \\n7.3.2  工作中，服务意识和服务态度差，受到有效投诉，给公司带来不利影响的；  \\n7.3.3  未按要求穿戴工衣、工牌、劳保用品；   \\n7.3.4  无故不参加公司会议或培训；  \\n7.3.5  非抽烟时间在吸烟室抽烟；  \\n7.3.6  未按要求做好工位 6S、或随地丢扔垃圾者；  \\n7.3.7  其他经公司上级领导确认应予警告的行为。  \\n7.4 有下列情况之一者，予以通报批评：  \\n7.4.1  累计警告超过 3次； \\n7.4.2  不听从指挥、不服从工作安排，情节较严重的；  \\n7.4.3  早退或未下班就停工、无故旷工；  \\n7.4.4  不服从主管人员合理指导，屡劝不听 3次以上者；  \\n7.4.5  未按6S要求“日清日毕 ”就交班者；  \\n7.4.6  工作中弄虚作假，但未给工作带来影响或造成公司损失的；  \\n7.4.7  上班期间看报纸（小说） 、玩手机、看视频、玩游戏、浏览工作以外的网站等累计达 3\\n次以上者；  \\n7.4.8  接待过程中，访客未遵守公司规定的，但未给公司带来损失的，接待人员有连带责\\n任； \\n7.4.9  因违规、违纪、失职给公司或其他员工造成轻微损失的；  '),\n",
       " Document(metadata={'source': './documents/奖惩管理制度.pdf', 'page': 4}, page_content='          \\n员工奖惩管理制度  文件编号  WI-HR-008 \\n版本 A0 页码  5 of 7 \\n \\n编制：潘玉华                 审核：许杨雄                    批准：张权                   生效日期： 2022-09-20 7.4.10  其他经公司上级领导确认应予通报批评的行为。  \\n7.5 有下列情况之一者，予以记小过：  \\n7.5.1  累计超过 3次通报批评的；  \\n7.5.2  服务意识、服务态度差，多次受到客户投诉且屡教不改，严重影响公司声誉的；  \\n7.5.3  工作中弄虚作假，给工作带来较严重后果或造成公司较大经济损失的；  \\n7.5.4  私自接受客户和他人礼品未上交或私自接受客户和他人吃请，涉及金额较小或未给公\\n司声誉造成较大影响的；  \\n7.5.5  因个人原因导致工作失误造成 1000元（含）以上， 2000元（不含）以下损失者；  \\n7.5.6  接待过程中，访客未遵守公司规定，给公司带来一定的经济损失，接待人员及其领导\\n有连带责任；  \\n7.5.7  因违规、 违纪、失职给公司造成较大损失的；  \\n7.5.8  其他经公司上级领导确认应予记小过的行为。  \\n7.6 有下列情况之一者，予以记大过：  \\n7.6.1  违反国家法规、法律、政策和公司规章制度，造成经济损失或不良影响的；  \\n7.6.2  擅离职守，导致事故，使公司蒙受重大损失；  \\n7.6.3  违反公司安全规定措施致使公司蒙受重大损失；  \\n7.6.4  散布谣言，损害公司声誉或诋毁他人声誉的；  \\n7.6.5  对能够预防的事故不积极采取措施避免或事故发生后不及时上报，导致公司利益受到\\n损害者；  \\n7.6.6  在外兼营与本公司同类业务，未给公司造成经济较大损失或严重影响的；  \\n7.6.7  在上班期间利用网络等手段从事第二职业的；未给公司造经济损失 的或影响；  \\n7.6.8  接待过程中，访客未遵守公司规定，给公司带来较大的的经济损失，接待人员及其领\\n导有连带责任。  \\n7.6.9  因违规、违纪、失职给公司造成重大损失的。  \\n7.7 有下列情况之一者，公司有权解除劳动关系而不需要支付经济补（赔）金。  \\n7.7.1  累计超过 2次记大过的； \\n7.7.2  于受聘时虚报资料，使公司误信而遭受损失；  \\n7.7.3  故意泄露技术、营业之秘密，致使公司蒙受损害；  \\n7.7.4  接待过程中，访客未遵守公司规定，造成泄密的从而违反保密协议条款的，接待人员\\n及其领导有连带责任；  '),\n",
       " Document(metadata={'source': './documents/奖惩管理制度.pdf', 'page': 5}, page_content='          \\n员工奖惩管理制度  文件编号  WI-HR-008 \\n版本 A0 页码  6 of 7 \\n \\n编制：潘玉华                 审核：许杨雄                    批准：张权                   生效日期： 2022-09-20 7.7.5  不服从工作安排和调动、指挥，或无理取闹，影响工作秩序的；  \\n7.7.6  滥用职权，违反公司纪律，挥霍浪费公司资产，损公肥私，造成经济损失的；  \\n7.7.7  贪污、盗窃、行贿受贿、敲诈勒索、流氓、斗殴，尚未达到刑事处罚的；  \\n7.7.8  因个人原因导致工作失误造成 5000元（含）以上损失者（公司同时保留要求赔偿责\\n任） ； \\n7.7.9  单次旷工 3 天以上（含 3天） ，或一个月内累计旷工 3天以上（含 3天） ，或全年累计\\n旷工7天以上（含 7天）的；  \\n7.7.10  泄露薪资等保密、敏感信息行为；  \\n7.7.11  被司法机关处治安拘留处分以上者（含治安拘留） ；  \\n7.7.12  伪造或变造或盗用公司印信严重损害公司权益者（同时 移交司法机关处理） ；  \\n7.7.13  私自接受客户和他人礼品、礼金未上交或私自接受客户和他人吃请，涉及金额较大或\\n影响恶劣的；  \\n7.7.14  因违规、违纪、失职给公司造成特大损失的。  \\n7.7.15  从事赌博、吸毒、卖淫嫖娼、传销或进行其他违法活动的；  \\n7.7.16  违反国家法律法规或公司有关规章制度，构成犯罪的，移送司法机关处理；对公司、\\n他人造成经济损失或人身损害的，应承担相应民事赔偿责任。  \\n8.0 奖励、处罚的申报程序及审批执行  \\n8.1 员工行为属于部门管理责任的，由部门负责人对员工的行为填报奖励 /处罚申请，由人力资\\n源中心员工关系部审核；  \\n8.2 员工行为属于行政部管理责任的，由行政部对员工的行为填报奖励 /处罚申请，由人力资源\\n中心员工关系部审核；  \\n8.3 员工发现公司其他员工有违反制度行为时，可向违反制度员工的部门负责人反映，由违反\\n制度的部门负责人充分了解情况后填报奖励 /处罚申请，由人力资源中心员工关系部审核；  \\n8.4 人力资源中心员工关系部调查核实后，签署相应的处罚意见报上级领导审批；  \\n8.5 奖励/处罚申请审批通过后，由人力资源中心员工关系部开具《奖罚通知单》交员工本 人签\\n收，签收后交 人力资源中心薪酬绩效部在当月工资中 实施发放奖励或扣罚；  \\n8.6 若奖励事项由多人共同完成，其奖金按人数进行平均分配；  \\n8.7 一项事故或责任，若牵连到多个部门或个人，可依据情节轻重分摊扣款；  \\n8.8 人力资源中心薪酬绩效部对员工的奖罚做好记录，作为员工年度绩效考评依据之一。  \\n9.0 申诉 '),\n",
       " Document(metadata={'source': './documents/奖惩管理制度.pdf', 'page': 6}, page_content='          \\n员工奖惩管理制度  文件编号  WI-HR-008 \\n版本 A0 页码  7 of 7 \\n \\n编制：潘玉华                 审核：许杨雄                    批准：张权                   生效日期： 2022-09-20 9.1 员工对《奖罚通知单》处罚内容有异议的，应于签收当日起计， 3个工作日内（含）向开\\n具《奖罚通知单》的上级提交书面申诉书；  \\n9.2 收到员工书面申诉书后，相关领导应在 3个工作日内（含）给予书面回复。对回复仍有异\\n议的，可向人力资源中心总监申诉，记大过及以上处罚的申诉裁定则以人力资源中心报总\\n经理批准的结果为最终处理意见。  \\n9.3 员工对开出的《奖罚通知单》不签收，也不在规定期内提交书面申诉书，视为员工对公司\\n或部门开出的《奖罚通知单》的默认，公司按相关规定进行处理。  \\n9.4 员工反馈的违纪情况，在处理完毕后，违纪员工所在部门负责人应向反映情况的员工回复\\n处理情况。反映情况的员工在 7个工作工日内（含）未收到回复的，可直接向人力资源中\\n心员工关系部反映相关情况。  \\n \\n相关记录  \\n6.3 《奖罚通知单》   ')]"
      ]
     },
     "execution_count": 8,
     "metadata": {},
     "output_type": "execute_result"
    }
   ],
   "source": [
    "documents"
   ]
  },
  {
   "cell_type": "markdown",
   "metadata": {},
   "source": [
    "# 网页"
   ]
  },
  {
   "cell_type": "code",
   "execution_count": 9,
   "metadata": {},
   "outputs": [
    {
     "name": "stderr",
     "output_type": "stream",
     "text": [
      "USER_AGENT environment variable not set, consider setting it to identify your requests.\n"
     ]
    },
    {
     "name": "stdout",
     "output_type": "stream",
     "text": [
      "{'source': 'https://python.langchain.ac.cn/docs/how_to/chatbots_memory/', 'title': 'å¦‚ä½•ä¸ºè�Šå¤©æœºå™¨äººæ·»åŠ\\xa0è®°å¿† | ğŸ¦œï¸�ğŸ”— LangChain ä¸\\xadæ–‡', 'language': 'zh-hans'}\n"
     ]
    }
   ],
   "source": [
    "from langchain.document_loaders import WebBaseLoader\n",
    "\n",
    "# 定义文本加载器，指定读取的文件路径\n",
    "page_url = \"https://python.langchain.ac.cn/docs/how_to/chatbots_memory/\"\n",
    "loader = WebBaseLoader(web_paths=[page_url])\n",
    "documents=loader.load()\n",
    "print(documents[0].metadata)"
   ]
  },
  {
   "cell_type": "markdown",
   "metadata": {},
   "source": [
    "# CSV"
   ]
  },
  {
   "cell_type": "code",
   "execution_count": 10,
   "metadata": {},
   "outputs": [
    {
     "name": "stdout",
     "output_type": "stream",
     "text": [
      "{'source': './documents/京东笔记本销售数据.csv', 'row': 0}\n"
     ]
    }
   ],
   "source": [
    "from langchain.document_loaders.csv_loader import CSVLoader\n",
    "\n",
    "# 定义文本加载器，指定读取的文件路径\n",
    "loader = CSVLoader(\"./documents/京东笔记本销售数据.csv\")\n",
    "documents=loader.load()\n",
    "print(documents[0].metadata)"
   ]
  },
  {
   "cell_type": "code",
   "execution_count": 12,
   "metadata": {},
   "outputs": [
    {
     "data": {
      "text/plain": [
       "[Document(metadata={'source': './documents/京东笔记本销售数据.csv', 'row': 0}, page_content='\\ufeff: 0\\ntitle: 联想笔记本电脑小新Air15 英特尔酷睿i5 15.6英寸全面屏办公轻薄本 (11代i5 16G 512G 高色域 数字小键盘 )\\nprice: 4799.00\\ncommit: 10万+\\nshop_name: 联想京东自营旗舰店\\nhref: https://item.jd.com/100021802484.html\\nbrand: 联想（Lenovo）\\nRAM: 内存容量：16GB\\nSSD: 固态硬盘（SSD）：512GB\\nGPU: 显卡型号：集成显卡\\nCPU: i5-1155G7\\nscreen: 15.6英寸'),\n",
       " Document(metadata={'source': './documents/京东笔记本销售数据.csv', 'row': 1}, page_content='\\ufeff: 1\\ntitle: 京品电脑\\n惠普(HP)战66四代 锐龙版 14英寸轻薄笔记本电脑(Zen3架构 6核 R5-5600U 16G 512G 400尼特高色域 一年上门)\\nprice: 4999.00\\ncommit: 20万+\\nshop_name: 惠普京东自营官方旗舰店\\nhref: https://item.jd.com/100018079978.html\\nbrand: 惠普（HP）\\nRAM: 内存容量：16GB\\nSSD: 固态硬盘（SSD）：512GB\\nGPU: 显卡型号：集成显卡\\nCPU: R5-5600U\\nscreen: 14英寸')]"
      ]
     },
     "execution_count": 12,
     "metadata": {},
     "output_type": "execute_result"
    }
   ],
   "source": [
    "documents[:2]"
   ]
  },
  {
   "cell_type": "markdown",
   "metadata": {},
   "source": [
    "# HTML"
   ]
  },
  {
   "cell_type": "code",
   "execution_count": 13,
   "metadata": {},
   "outputs": [
    {
     "name": "stdout",
     "output_type": "stream",
     "text": [
      "{'source': './documents/如何加载HTML-LangChain中文.html'}\n"
     ]
    }
   ],
   "source": [
    "from langchain.document_loaders import UnstructuredHTMLLoader\n",
    "\n",
    "# 定义文本加载器，指定读取的文件路径\n",
    "loader = UnstructuredHTMLLoader(\"./documents/如何加载HTML-LangChain中文.html\")\n",
    "documents=loader.load()\n",
    "print(documents[0].metadata)"
   ]
  },
  {
   "cell_type": "markdown",
   "metadata": {},
   "source": [
    "# JSON"
   ]
  },
  {
   "cell_type": "code",
   "execution_count": 15,
   "metadata": {},
   "outputs": [
    {
     "name": "stdout",
     "output_type": "stream",
     "text": [
      "{'source': '/home/wushaogui/MyCodes/langchain-chatglm/Learnning/documents/facebook_chat.json', 'seq_num': 1}\n"
     ]
    }
   ],
   "source": [
    "from langchain.document_loaders import JSONLoader\n",
    "\n",
    "# 定义文本加载器，指定读取的文件路径\n",
    "loader = JSONLoader(\"./documents/facebook_chat.json\",jq_schema='.messages[].content',text_content=False)\n",
    "documents=loader.load()\n",
    "print(documents[0].metadata)"
   ]
  },
  {
   "cell_type": "code",
   "execution_count": 16,
   "metadata": {},
   "outputs": [
    {
     "data": {
      "text/plain": [
       "[Document(metadata={'source': '/home/wushaogui/MyCodes/langchain-chatglm/Learnning/documents/facebook_chat.json', 'seq_num': 1}, page_content='Bye!'),\n",
       " Document(metadata={'source': '/home/wushaogui/MyCodes/langchain-chatglm/Learnning/documents/facebook_chat.json', 'seq_num': 2}, page_content='Oh no worries! Bye'),\n",
       " Document(metadata={'source': '/home/wushaogui/MyCodes/langchain-chatglm/Learnning/documents/facebook_chat.json', 'seq_num': 3}, page_content='No Im sorry it was my mistake, the blue one is not for sale'),\n",
       " Document(metadata={'source': '/home/wushaogui/MyCodes/langchain-chatglm/Learnning/documents/facebook_chat.json', 'seq_num': 4}, page_content='I thought you were selling the blue one!'),\n",
       " Document(metadata={'source': '/home/wushaogui/MyCodes/langchain-chatglm/Learnning/documents/facebook_chat.json', 'seq_num': 5}, page_content='Im not interested in this bag. Im interested in the blue one!'),\n",
       " Document(metadata={'source': '/home/wushaogui/MyCodes/langchain-chatglm/Learnning/documents/facebook_chat.json', 'seq_num': 6}, page_content='Here is $129'),\n",
       " Document(metadata={'source': '/home/wushaogui/MyCodes/langchain-chatglm/Learnning/documents/facebook_chat.json', 'seq_num': 7}, page_content=''),\n",
       " Document(metadata={'source': '/home/wushaogui/MyCodes/langchain-chatglm/Learnning/documents/facebook_chat.json', 'seq_num': 8}, page_content='Online is at least $100'),\n",
       " Document(metadata={'source': '/home/wushaogui/MyCodes/langchain-chatglm/Learnning/documents/facebook_chat.json', 'seq_num': 9}, page_content='How much do you want?'),\n",
       " Document(metadata={'source': '/home/wushaogui/MyCodes/langchain-chatglm/Learnning/documents/facebook_chat.json', 'seq_num': 10}, page_content='Goodmorning! $50 is too low.'),\n",
       " Document(metadata={'source': '/home/wushaogui/MyCodes/langchain-chatglm/Learnning/documents/facebook_chat.json', 'seq_num': 11}, page_content='Hi! Im interested in your bag. Im offering $50. Let me know if you are interested. Thanks!')]"
      ]
     },
     "execution_count": 16,
     "metadata": {},
     "output_type": "execute_result"
    }
   ],
   "source": [
    "documents"
   ]
  },
  {
   "cell_type": "markdown",
   "metadata": {},
   "source": [
    "# Markdown"
   ]
  },
  {
   "cell_type": "code",
   "execution_count": 17,
   "metadata": {},
   "outputs": [
    {
     "name": "stdout",
     "output_type": "stream",
     "text": [
      "{'source': './documents/读书-零秒执行力.md'}\n"
     ]
    }
   ],
   "source": [
    "from langchain.document_loaders import UnstructuredMarkdownLoader\n",
    "\n",
    "# 定义文本加载器，指定读取的文件路径\n",
    "loader = UnstructuredMarkdownLoader(\"./documents/读书-零秒执行力.md\")\n",
    "documents=loader.load()\n",
    "print(documents[0].metadata)"
   ]
  },
  {
   "cell_type": "code",
   "execution_count": 18,
   "metadata": {},
   "outputs": [
    {
     "data": {
      "text/plain": [
       "[Document(metadata={'source': './documents/读书-零秒执行力.md'}, page_content='title: 麦肯锡零秒执行力 aythor: 侯昭康 score: 7.2 publisher: 广东旅游出版社 creattime: 2021-7 url: 麦肯锡零秒执行力 (豆瓣)\\n\\n![[../source/images/读书-零秒执行力-20230408144409.png]]\\n\\n读书原因\\n\\n明明昨天已经计划好该做什么，但是第二天不知道从什么开始？结果又是忙这忙那，要不就是开启视频度过一天，计划不断立了又破，立了又破，没个头！因此看看本书有什么真知灼见\\n\\n书籍评价\\n\\n本书倾向于领导的“快速执行力”的建立，通过选项及框架的方法指导领导“当机立断，立即执行”，于我个人而言，本书对“为什么犹豫前？”、“什么情况下当机立断？”、“当机立断的风险？”更有用\\n\\n书籍笔记\\n\\n为何 “当机立断、立即执行“ 如此困难？ ^7jbd2l\\n\\n原因大致有两个：一是完全不知所措，二是知道该做什么却不想面对\\n\\n[[读书-零秒执行力#^17llqm|做事完全不知所措]]：不知道什么重要，不知道该关注什么？无法确定方向-> 通过请教他人，大多数人会害怕知道应该做什么，于是总是无法下定决心去努力了解该做什么\\n\\n[[读书-零秒执行力#^va6s1f|知道要做的事，但无法采取行动]]：不采取行动能获得暂时的轻松，但是以后会拖成大问题-> 直面情况，认真考虑，厘清思路，了解该做什么，并且迅速处理，这样要比紧闭双眼、无动于衷好得多\\n\\n做事完全不知所措的原因有哪些？ ^17llqm\\n\\n没有收集全部信息就会感到不安、恐惧：对没有收集到全部信息而感到不安和恐惧，原本早该下结论的事，还是想不停收集信息，导致一拖再拖-> 信息是有收集成本的，一直幻想掌握全部信息，是不理想的，一般信息收集几小时、几天、最长不超过 1~2 周，要注意：管理收集信息的时间，而不是信息量。在收集信息时，除要关注网络、报纸、杂志、书籍等媒体外，还必须向有真知灼见且直率的人请教。这是因为，独自在不熟悉的领域中收集信息的话，很有可能会出现很大的方向性的错误\\n\\n大脑中充斥着信息：信息收集得太多，导致大脑需要顾及的事情太多，想法与想法之间相互打架，最终导致计划流产\\n\\n一旦计划有变动就会焦虑，想事先确定所有事情：面对计划的变动，一些神经质、胆小的人容易产生焦虑，怀疑自己制定的计划->理性面对计划的改变，随机根据改变调整自己的计划，只要不犯方向性的错误，就继续走下去\\n\\n求助他人会感到麻烦、不安：经常自己一个人奋斗，哪些可能请教他人 10 分钟解决的事情，非得自己花 1 个小时去学习，要想胜任较大规模的任务，必须懂得求助他人\\n\\n在实际行动前就担心失败：有人十分在意失败，不敢尝试，导致犹犹豫豫->失败也是一次经验，如果因为害怕而不敢尝试，最大的损失就是时间。时间是无法增长的，用一天少一天，积累失败的经验也是成功\\n\\n对当机立断、立即行动有抵触感和过敏反应：有些人性格上就喜欢所谓的“考虑周到”，打心底抵触“立即行动”，这样的人如何在快速运转的社会上生存下去？\\n\\n知道要做的事，为什么却无法采取行动？ ^va6s1f\\n\\n明明知道事情应该如何去做，但是就是习惯性地“拖泥带水”，不想行动，这种“空想家”只能在脑袋安慰自己，无法在现实中取得成功。\\n\\n“当机立断、立即执行“ 的风险？\\n\\n盲目追求速度会导致工作质量下降： 当机立断、立即行动的本质是消除犹豫、逡巡、迷茫等降低速度的因素，但绝不能因此牺牲工作质量\\n\\n有些成员缺乏思考，试图用蛮力解决问题： 这类人原本不会听他人的劝说，经常按照自己的方式理解事物，处理工作时过于草率。对此，要以通俗易懂的表达方式向其说明当机立断、立即行动的真正意义和必要准备，告诫他提升速度绝不是忽视质量，随意完成工作\\n\\n有的成员会因跟不上速度而抱怨\\n\\n不要轻易动摇： 在决定前进的方向后，不要有片刻犹豫，而要全神贯注，为跨越眼前的障碍而全力以赴\\n\\n“当机立断、立即执行“ 的 6 个理由？\\n\\n抢占先机：比竞争对手抢先开展活动，先发制人\\n\\n加速 PDCA 循环：快速进入策划、实施、确认、改进的循环中\\n\\n提高生产效率：立即行动，时间利用高，效率自然高\\n\\n得到周围人的信任：现场作出决定，立马给出思路能得到团队的他人的好感\\n\\n带动下属提高行动速度：雷厉风行的领导更容易带领下属动起来\\n\\n整个组织会焕发活力：形成当机立断的氛围后，团队交流更加流畅\\n\\n什么时候难以做到 “当机立断、立即执行“ ？ ^tldtok\\n\\n对某个领域一无所知时（可以请教他人）： 此时可以立即寻找这个领域的专业人士，认真请教，快速获取相关知识。如果有朋友了解相关领域，可以直接询问；如果不认识这方面的专业人士，可以通过 SNS 等途径寻找相关人士或拜托朋友介绍，从而迅速把握整体信息\\n\\n不必立即做出决定时（但要迅速做出结论）： 有些工作不必立即做出决定。在宣传工作中，现行方案获得怎样的反馈，会极大地影响下一步计划，因此往往不需要立即做出决定\\n\\n涉及人员较多，利害关系复杂时（但要有自己的结论）： 当涉及人员较多，利害关系较复杂时，难以做到当机立断、立即行动，因此应当谨慎行事\\n\\n如何规避 “当机立断、立即执行“ 的风险？ ^46swkz\\n\\n平时要有体系地收集相关领域的信息：除了自己的专业领域之外，要在平时尽可能多地、有体系地收集相关领域的信息，从而获取相关知识，这一点极为重要\\n\\n遇到需要当机立断、立即执行的情况，要迅速收集信息：应该立即向有可能了解该领域的 10 个人发送邮件或者打电话直接询问。邀请最了解该领域的朋友或熟人在当天共进午餐，通过当面交流收集信息。如果没有合适人选，就只好向别人打听或拜托广告公司的熟人介绍\\n\\n用选项立项、评价，用工作框架整理：为了践行当机立断、立即行动，平常需要优先考虑选项。养成使用 2×2 工作框架的习惯也是当机立断、立即行动的前提\\n\\n经常考虑并准备备用方案：为了规避风险，要经常考虑并准备备用方案。没有人能够保证 100%不会出现意外情况\\n\\n平时要选拔并培养人数较少且能迅速行动的团队：为了做到当机立断、立即行动，必须要培养能够听从指挥、人数较少且能迅速行动的团队。即便立即做出决定，但后期完成目标所需的时间过长，也是毫无意义的\\n\\n什么是“全局观”? ^trbhzw\\n\\n就比如：晚上道路漆黑，几乎看不到前方，此时快速骑自行车是极其危险的。但是，打开车灯的话，在一定程度上就可以放心骑车了。另外，如果街灯亮着，在直路上能看见前方几十米的情况，即使骑车速度很快也很安全，不会感到害怕\\n\\n开灯看清道路（全局），便可以勇敢地骑车过去\\n\\n“当机立断、立即执行“ 为什么需要全局观？ ^cqssys\\n\\n![[../source/images/读书-零秒执行力-20230408144410.png]]\\n\\n\"无法当机立断、立即行动\"的根本原因就是没有对事物建立一个正确的“全局观”。反过来说，只要拥有“全局观”，在必要时就可以做到当机立断、立即行动\\n\\n“即使头脑理解，身体也无动于衷”其实是没有真正理解“不做该做的事会产生怎样的后果”的表现，也低估了不采取行动带来的风险。这和以为路上很安全，于是骑车时粗心大意，没有看到有车辆从侧面驶来一样\\n\\n如何训练全局观？ ^kiptyf\\n\\n通过 2 种工具来训练自己的全局观\\n\\n[[读书-零秒执行力#^ltue5g|选项]]：指的是列举出多个可以实施的选项，并比较、评价这些选项的思考方法；只要掌握列举主要选项并迅速评价的技巧，就可以无遗漏地评价多个选项，从而选出最佳方案。这样也能够避免在事后出现“还有其他更好的方法”或“为何事先没发现某个方法不合适”的想法\\n\\n[[读书-零秒执行力#^k1ewo5|工作框架]]：工作框架是整理事物的框架，最简单的是 2×2 的框架\\n\\n“选项”其实是深入挖掘可能做出的选择。必须要充分把握面临的问题，并在瞬间列出所有可能做出的选择。同时，也必须正确理解这些选择对于自身有怎样的意义和效果。\\n\\n工作框架也是如此。在制作有意义的工作框架时，不能只关注某一部分，而是要俯瞰全局，在此基础上也要转换意识，关注特定部分。养成这种习惯，也就相当于建立起了全局观。\\n\\n列举“选项”的注意事项？ ^ltue5g\\n\\n![[../source/images/读书-零秒执行力-20230408144411.png]]\\n\\n列举重要选项并评价，不遗漏： 不要因一时兴起而做出决定，应该认真地列举出可能的选项，并做出合适的选择\\n\\n应最大限度地思考，避免先入为主：避免思维定势束缚自己列举的选项\\n\\n根据真正的目的和限制来缩小范围： 不要盲目列举选项，确保关联\\n\\n设计“工作框架”的注意事项？ ^k1ewo5\\n\\n![[../source/images/读书-零秒执行力-20230408144411-1.png]]\\n\\n现在想要整理的事项： 应该把现在自己想要整理的问题作为工作框架的主题。将平常在意，并想整理的事情直接写下来即可。不必想得太复杂，正面面对问题就好。但是要注意主题的正确性，以及自己与团队成员之间关于一些词的理解是否有偏差\\n\\n怎样设定坐标轴才能使工作框架最具意义\\n\\n在 2×2 的工作框架中，怎样划分坐标轴的等级最为合适：要根据工作框架的“主题”和“使用目的”来确认坐标轴的等级是否合适\\n\\n4 个栏中是否填入了合适的内容：')]"
      ]
     },
     "execution_count": 18,
     "metadata": {},
     "output_type": "execute_result"
    }
   ],
   "source": [
    "documents"
   ]
  },
  {
   "cell_type": "markdown",
   "metadata": {},
   "source": [
    "# doc、xml等文件"
   ]
  },
  {
   "cell_type": "markdown",
   "metadata": {},
   "source": [
    "依赖Azure AI 文档智能 (以前称为 Azure Form Recognizer) 云服务，需要key，暂不记录"
   ]
  },
  {
   "cell_type": "markdown",
   "metadata": {},
   "source": [
    "# 目录"
   ]
  },
  {
   "cell_type": "code",
   "execution_count": 20,
   "metadata": {},
   "outputs": [
    {
     "name": "stderr",
     "output_type": "stream",
     "text": [
      "100%|██████████| 2/2 [00:00<00:00, 18.05it/s]"
     ]
    },
    {
     "name": "stdout",
     "output_type": "stream",
     "text": [
      "{'source': 'documents/如何面试别人.md'}\n"
     ]
    },
    {
     "name": "stderr",
     "output_type": "stream",
     "text": [
      "\n"
     ]
    }
   ],
   "source": [
    "from langchain.document_loaders import DirectoryLoader\n",
    "# DirectoryLoader初始化需要参数loader_cls，该参数指定了使用哪种解释器处理文件，默认值是UnstructuredFileLoader\n",
    "\n",
    "loader = DirectoryLoader(\"./documents/\", glob=\"*.md\", show_progress=True)\n",
    "documents=loader.load()\n",
    "print(documents[0].metadata)"
   ]
  }
 ],
 "metadata": {
  "kernelspec": {
   "display_name": "py39",
   "language": "python",
   "name": "python3"
  },
  "language_info": {
   "codemirror_mode": {
    "name": "ipython",
    "version": 3
   },
   "file_extension": ".py",
   "mimetype": "text/x-python",
   "name": "python",
   "nbconvert_exporter": "python",
   "pygments_lexer": "ipython3",
   "version": "3.9.12"
  }
 },
 "nbformat": 4,
 "nbformat_minor": 2
}
