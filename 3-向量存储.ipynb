{
 "cells": [
  {
   "cell_type": "code",
   "execution_count": 2,
   "metadata": {},
   "outputs": [
    {
     "name": "stdout",
     "output_type": "stream",
     "text": [
      "{'source': './documents/三国演义.txt'}\n"
     ]
    }
   ],
   "source": [
    "from langchain.document_loaders import TextLoader\n",
    "# 定义文本加载器，指定读取的文件路径\n",
    "loader = TextLoader(\"./documents/三国演义.txt\")\n",
    "documents=loader.load()\n",
    "print(documents[0].metadata)\n",
    "\n",
    "\n",
    "from langchain.text_splitter  import RecursiveCharacterTextSplitter\n",
    "text_splitter = RecursiveCharacterTextSplitter(chunk_size=100,chunk_overlap=20,    \n",
    "                                      separators=[\n",
    "                                                \"\\n\\n\",\n",
    "                                                \"\\n\",\n",
    "                                                \" \",\n",
    "                                                \".\",\n",
    "                                                \",\",\n",
    "                                                \"\\u200b\",  # Zero-width space\n",
    "                                                \"\\uff0c\",  # Fullwidth comma\n",
    "                                                \"\\u3001\",  # Ideographic comma\n",
    "                                                \"\\uff0e\",  # Fullwidth full stop\n",
    "                                                \"\\u3002\",  # Ideographic full stop\n",
    "                                                \"\",\n",
    "                                            ],)\n",
    "split_documents=text_splitter.split_documents(documents)"
   ]
  },
  {
   "cell_type": "code",
   "execution_count": 3,
   "metadata": {},
   "outputs": [
    {
     "name": "stderr",
     "output_type": "stream",
     "text": [
      "/tmp/ipykernel_14312/2788769724.py:6: LangChainDeprecationWarning: The class `HuggingFaceEmbeddings` was deprecated in LangChain 0.2.2 and will be removed in 1.0. An updated version of the class exists in the :class:`~langchain-huggingface package and should be used instead. To use it run `pip install -U :class:`~langchain-huggingface` and import as `from :class:`~langchain_huggingface import HuggingFaceEmbeddings``.\n",
      "  embeddings_model= HuggingFaceEmbeddings(\n",
      "/home/wushaogui/anaconda3/envs/py39/lib/python3.9/site-packages/tqdm/auto.py:21: TqdmWarning: IProgress not found. Please update jupyter and ipywidgets. See https://ipywidgets.readthedocs.io/en/stable/user_install.html\n",
      "  from .autonotebook import tqdm as notebook_tqdm\n",
      "/home/wushaogui/anaconda3/envs/py39/lib/python3.9/site-packages/transformers/utils/generic.py:311: FutureWarning: `torch.utils._pytree._register_pytree_node` is deprecated. Please use `torch.utils._pytree.register_pytree_node` instead.\n",
      "  torch.utils._pytree._register_pytree_node(\n",
      "/home/wushaogui/anaconda3/envs/py39/lib/python3.9/site-packages/transformers/utils/generic.py:311: FutureWarning: `torch.utils._pytree._register_pytree_node` is deprecated. Please use `torch.utils._pytree.register_pytree_node` instead.\n",
      "  torch.utils._pytree._register_pytree_node(\n"
     ]
    }
   ],
   "source": [
    "# 加载embedding模型\n",
    "from langchain.embeddings.huggingface import HuggingFaceEmbeddings\n",
    "\n",
    "encode_kwargs = {\"normalize_embeddings\": False}\n",
    "model_kwargs = {\"device\": \"cuda:0\"}\n",
    "embeddings_model= HuggingFaceEmbeddings(\n",
    "    model_name='/mnt/wushaogui/huggingface/shibing624/text2vec-base-chinese/',\n",
    "    model_kwargs=model_kwargs,\n",
    "    encode_kwargs=encode_kwargs\n",
    ")"
   ]
  },
  {
   "cell_type": "code",
   "execution_count": 7,
   "metadata": {},
   "outputs": [
    {
     "name": "stderr",
     "output_type": "stream",
     "text": [
      "/tmp/ipykernel_14312/2049267115.py:5: LangChainDeprecationWarning: Since Chroma 0.4.x the manual persistence method is no longer supported as docs are automatically persisted.\n",
      "  db.persist()\n"
     ]
    }
   ],
   "source": [
    "from langchain.vectorstores import Chroma\n",
    "\n",
    "persist_directory=\"VectorStore\" # 数据库保存路径\n",
    "db = Chroma.from_documents(split_documents, embeddings_model, persist_directory=persist_directory)\n",
    "db.persist()"
   ]
  },
  {
   "cell_type": "markdown",
   "metadata": {},
   "source": [
    "# 相似度搜索\n",
    "\n",
    "使用similarity_search 方法快速搜索向量数据库中的相似文本片段"
   ]
  },
  {
   "cell_type": "code",
   "execution_count": 6,
   "metadata": {},
   "outputs": [
    {
     "name": "stdout",
     "output_type": "stream",
     "text": [
      "4 ，说吕布拱手来降，可乎？”卓大喜，观其人，乃虎贲中郎将李肃也。卓曰：“汝将何以说之？”肃曰：“某闻主公有名马一匹，号曰‘赤兔’，日行千里。须得此马，再用金珠，以利结其心；某更进说词：吕布必反丁原\n"
     ]
    }
   ],
   "source": [
    "query = \"吕布上马\"\n",
    "docs = db.similarity_search(query)\n",
    "print(len(docs),docs[0].page_content)"
   ]
  }
 ],
 "metadata": {
  "kernelspec": {
   "display_name": "py39",
   "language": "python",
   "name": "python3"
  },
  "language_info": {
   "codemirror_mode": {
    "name": "ipython",
    "version": 3
   },
   "file_extension": ".py",
   "mimetype": "text/x-python",
   "name": "python",
   "nbconvert_exporter": "python",
   "pygments_lexer": "ipython3",
   "version": "3.9.12"
  }
 },
 "nbformat": 4,
 "nbformat_minor": 2
}
