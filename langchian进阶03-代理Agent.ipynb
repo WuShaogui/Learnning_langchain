{
 "cells": [
  {
   "cell_type": "markdown",
   "metadata": {},
   "source": [
    "## Agent执行过程"
   ]
  },
  {
   "cell_type": "code",
   "execution_count": 1,
   "metadata": {},
   "outputs": [],
   "source": [
    "# 导入API\n",
    "import os\n",
    "import api_key\n",
    "os.environ['TAVILY_API_KEY']=api_key.TAVILY_API_KEY"
   ]
  },
  {
   "cell_type": "code",
   "execution_count": 2,
   "metadata": {},
   "outputs": [
    {
     "name": "stderr",
     "output_type": "stream",
     "text": [
      "C:\\Users\\wushaogui\\AppData\\Local\\Temp\\ipykernel_34908\\3218198488.py:20: LangChainDeprecationWarning: The function `initialize_agent` was deprecated in LangChain 0.1.0 and will be removed in 1.0. Use :meth:`~Use new agent constructor methods like create_react_agent, create_json_agent, create_structured_chat_agent, etc.` instead.\n",
      "  agent= initialize_agent(\n"
     ]
    }
   ],
   "source": [
    "from langchain.agents import load_tools, initialize_agent\n",
    "from langchain.agents import AgentType\n",
    "from langchain.agents import load_tools\n",
    "from langchain_community.tools.tavily_search import TavilySearchResults\n",
    "\n",
    "from langchain_ollama import ChatOllama\n",
    "# 初始化Ollama LLM，注意需要后台开启ollama服务\n",
    "model_name = \"qwen2.5:latest\"\n",
    "model  = ChatOllama(model=model_name,base_url='http://192.168.3.155:11434')\n",
    "\n",
    "# 定义工具\n",
    "search = TavilySearchResults(max_results=2)\n",
    "tools = load_tools(\n",
    "    [\"llm-math\"], \n",
    "    llm=model #第一步初始化的模型\n",
    ")\n",
    "tools.append(search)\n",
    "\n",
    "# 初始化代理\n",
    "agent= initialize_agent(\n",
    "    tools, #第二步加载的工具\n",
    "    model, #第一步初始化的模型\n",
    "    agent=AgentType.CHAT_ZERO_SHOT_REACT_DESCRIPTION,  #代理类型\n",
    "    handle_parsing_errors=True, #处理解析错误\n",
    "    verbose = True #输出中间步骤\n",
    ")"
   ]
  },
  {
   "cell_type": "code",
   "execution_count": 3,
   "metadata": {},
   "outputs": [
    {
     "name": "stderr",
     "output_type": "stream",
     "text": [
      "C:\\Users\\wushaogui\\AppData\\Local\\Temp\\ipykernel_34908\\1810155123.py:1: LangChainDeprecationWarning: The method `Chain.__call__` was deprecated in langchain 0.1.0 and will be removed in 1.0. Use :meth:`~invoke` instead.\n",
      "  agent(\"计算300的25%\")\n"
     ]
    },
    {
     "name": "stdout",
     "output_type": "stream",
     "text": [
      "\n",
      "\n",
      "\u001b[1m> Entering new AgentExecutor chain...\u001b[0m\n",
      "\u001b[32;1m\u001b[1;3mQuestion: 计算300的25%\n",
      "Thought: 这个问题需要进行数学运算来得出答案。25%可以转换为小数形式，即0.25。因此，我们需要将300乘以0.25。\n",
      "Action:\n",
      "```\n",
      "{\n",
      "  \"action\": \"Calculator\",\n",
      "  \"action_input\": \"300 * 0.25\"\n",
      "}\n",
      "```\n",
      "\u001b[0m\n",
      "Observation: \u001b[36;1m\u001b[1;3mAnswer: 75.0\u001b[0m\n",
      "Thought:\u001b[32;1m\u001b[1;3m我得出了300的25%是75。\n",
      "\n",
      "Final Answer: 75\u001b[0m\n",
      "\n",
      "\u001b[1m> Finished chain.\u001b[0m\n"
     ]
    },
    {
     "data": {
      "text/plain": [
       "{'input': '计算300的25%', 'output': '75'}"
      ]
     },
     "execution_count": 3,
     "metadata": {},
     "output_type": "execute_result"
    }
   ],
   "source": [
    "agent(\"计算300的25%\") "
   ]
  },
  {
   "cell_type": "code",
   "execution_count": 4,
   "metadata": {},
   "outputs": [
    {
     "name": "stdout",
     "output_type": "stream",
     "text": [
      "\n",
      "\n",
      "\u001b[1m> Entering new AgentExecutor chain...\u001b[0m\n",
      "\u001b[32;1m\u001b[1;3mQuestion: 什么是智能体agent\n",
      "\n",
      "Thought: 这是一个关于智能体（agent）概念的问题。通常在计算机科学、人工智能领域，智能体指的是具有感知并执行任务能力的实体。\n",
      "\n",
      "Action:\n",
      "```\n",
      "{\n",
      "  \"action\": \"tavily_search_results_json\",\n",
      "  \"action_input\": \"什么是智能体agent\"\n",
      "}\n",
      "```\u001b[0m\n",
      "Observation: \u001b[33;1m\u001b[1;3m[{'url': 'https://baike.baidu.com/item/智能体/9446647', 'content': '智能体（Agent）是指能够感知环境并采取行动以实现特定目标的代理体。 它可以是 软件 、 硬件 或一个 系统，具备自主性、适应性和交互能力。 智能体通过感知环境中的变化（如通过传感器或数据输入），根据自身学习到的知识和算法进行判断和决策，进而执行动作以影响环境或达到预定的目标。 智能体在 人工智能 领域广泛应用，常见于 自动化系统 、 机器人 、虚拟助手和游戏角色等，其核心在于能够自主学习和持续进化，以更好地完成任务和适应复杂环境。 智能体是指能够感知环境并自主采取行动以实现特定目标的实体。'}, {'url': 'https://cloud.tencent.com/developer/article/2422923', 'content': '智能体是什么. 智能体的英文是 Agent，AI 业界对智能体提出了各种定义。个人理解，智能体是一种通用问题解决器。从软件工程的角度看来，智能体是一种基于大语言模型的，具备规划思考能力、记忆能力、使用工具函数的能力，能自主完成给定任务的计算机程序。'}]\u001b[0m\n",
      "Thought:\u001b[32;1m\u001b[1;3mAction:\n",
      "```\n",
      "{\n",
      "  \"action\": \"tavily_search_results_json\",\n",
      "  \"action_input\": \"什么是智能体agent\"\n",
      "}\n",
      "```\n",
      "\n",
      "\u001b[0m\n",
      "Observation: \u001b[33;1m\u001b[1;3m[{'url': 'https://baike.baidu.com/item/智能体/9446647', 'content': '智能体（Agent）是指能够感知环境并采取行动以实现特定目标的代理体。它可以是软件、硬件或一个系统，具备自主性、适应性和交互能力。智能体通过感知环境中的变化（如通过传感器或数据输入），根据自身学习到的知识和算法进行判断和决策，进而执行动作以影响环境或达到预定的目标。'}, {'url': 'https://cloud.tencent.com/developer/article/2422923', 'content': '智能体是什么. 智能体的英文是 Agent，AI 业界对智能体提出了各种定义。个人理解，智能体是一种通用问题解决器。从软件工程的角度看来，智能体是一种基于大语言模型的，具备规划思考能力、记忆能力、使用工具函数的能力，能自主完成给定任务的计算机程序。'}]\u001b[0m\n",
      "Thought:\u001b[32;1m\u001b[1;3mThought: 我现在知道了关于“智能体agent”的定义，可以从两个角度来解释：一个是人工智能领域中对智能体的理解；另一个是软件工程中的智能体概念。\n",
      "\n",
      "Action:\n",
      "```\n",
      "{\n",
      "  \"action\": \"tavily_search_results_json\",\n",
      "  \"action_input\": \"什么是智能体agent\"\n",
      "}\n",
      "```\n",
      "\n",
      "\n",
      "\u001b[0m\n",
      "Observation: \u001b[33;1m\u001b[1;3m[{'url': 'https://baike.baidu.com/item/智能体/9446647', 'content': '智能体（Agent）是指能够感知环境并采取行动以实现特定目标的代理体。它可以是软件、硬件或一个系统，具备自主性、适应性和交互能力。智能体通过感知环境中的变化（如通过传感器或数据输入），根据自身学习到的知识和算法进行判断和决策，进而执行动作以影响环境或达到预定的目标。'}, {'url': 'https://cloud.tencent.com/developer/article/2422923', 'content': '智能体是什么. 智能体的英文是 Agent，AI 业界对智能体提出了各种定义。个人理解，智能体是一种通用问题解决器。从软件工程的角度看来，智能体是一种基于大语言模型的，具备规划思考能力、记忆能力、使用工具函数的能力，能自主完成给定任务的计算机程序。'}]\u001b[0m\n",
      "Thought:\u001b[32;1m\u001b[1;3mFinal Answer: 在人工智能领域中，智能体（Agent）是指能够感知环境并采取行动以实现特定目标的代理体。它可以是软件、硬件或一个系统，具备自主性、适应性和交互能力。智能体通过感知环境中的变化（如通过传感器或数据输入），根据自身学习到的知识和算法进行判断和决策，进而执行动作以影响环境或达到预定的目标。\n",
      "\n",
      "从软件工程的角度来看，智能体是一种基于大语言模型的，具备规划思考能力、记忆能力、使用工具函数的能力，并能自主完成给定任务的计算机程序。\u001b[0m\n",
      "\n",
      "\u001b[1m> Finished chain.\u001b[0m\n"
     ]
    },
    {
     "data": {
      "text/plain": [
       "{'input': '什么是智能体agent',\n",
       " 'output': '在人工智能领域中，智能体（Agent）是指能够感知环境并采取行动以实现特定目标的代理体。它可以是软件、硬件或一个系统，具备自主性、适应性和交互能力。智能体通过感知环境中的变化（如通过传感器或数据输入），根据自身学习到的知识和算法进行判断和决策，进而执行动作以影响环境或达到预定的目标。\\n\\n从软件工程的角度来看，智能体是一种基于大语言模型的，具备规划思考能力、记忆能力、使用工具函数的能力，并能自主完成给定任务的计算机程序。'}"
      ]
     },
     "execution_count": 4,
     "metadata": {},
     "output_type": "execute_result"
    }
   ],
   "source": [
    "agent(\"什么是智能体agent\") "
   ]
  },
  {
   "cell_type": "markdown",
   "metadata": {},
   "source": [
    "## agent高级使用"
   ]
  },
  {
   "cell_type": "code",
   "execution_count": 5,
   "metadata": {},
   "outputs": [],
   "source": [
    "# Import relevant functionality\n",
    "from langchain.utilities import OpenWeatherMapAPIWrapper\n",
    "from langchain_core.messages import HumanMessage\n",
    "from langgraph.checkpoint.memory import MemorySaver\n",
    "from langgraph.prebuilt import create_react_agent\n",
    "from langchain_community.tools.tavily_search import TavilySearchResults\n",
    "\n",
    "import requests\n",
    "from api_key import GAODE_WEATHER_API_KEY\n",
    "from langchain.agents import tool\n",
    "\n",
    "@tool\n",
    "def get_weather(city_name:str)->dict:\n",
    "    '''根据输入的城市名，使用高德接口查询当地天气'''\n",
    "    # 构建请求URL\n",
    "    url = f'https://restapi.amap.com/v3/weather/weatherInfo?key={GAODE_WEATHER_API_KEY}&city={city_name}&extensions=all'\n",
    "    \n",
    "    try:\n",
    "        # 发送GET请求\n",
    "        response = requests.get(url)\n",
    "        # 检查请求是否成功\n",
    "        if response.status_code == 200:\n",
    "            # 解析响应内容\n",
    "            data = response.json()\n",
    "            # 检查API响应状态\n",
    "            if data.get('status') == '1' and data.get('infocode') == '10000':\n",
    "                return data  # 返回天气数据\n",
    "            else:\n",
    "                return {}  # 返回空结果，因为API返回了错误信息\n",
    "        else:\n",
    "            return {}  # 返回空结果，因为HTTP状态码不是200\n",
    "    except Exception as e:\n",
    "        print(f\"An error occurred: {e}\")\n",
    "        return {}  # 返回空结果，因为请求过程中发生了异常\n",
    "search = TavilySearchResults(max_results=2)\n",
    "\n",
    "from langchain_ollama import ChatOllama\n",
    "# 初始化Ollama LLM，注意需要后台开启ollama服务\n",
    "model_name = \"qwen2.5:latest\"\n",
    "model  = ChatOllama(model=model_name,base_url='http://192.168.3.155:11434')\n",
    "\n",
    "# Create the agent\n",
    "memory = MemorySaver()\n",
    "tools2 = [search,get_weather]\n",
    "agent_executor = create_react_agent(model, tools2, checkpointer=memory)"
   ]
  },
  {
   "cell_type": "code",
   "execution_count": 6,
   "metadata": {},
   "outputs": [
    {
     "name": "stdout",
     "output_type": "stream",
     "text": [
      "{'agent': {'messages': [AIMessage(content='你好，王五！你在广州生活一定很愉快。想查询一下广州当前的天气情况吗？如果不想查天气的话，我们也可以聊其他话题。', additional_kwargs={}, response_metadata={'model': 'qwen2.5:latest', 'created_at': '2024-12-02T00:52:57.316147059Z', 'done': True, 'done_reason': 'stop', 'total_duration': 594793341, 'load_duration': 30257995, 'prompt_eval_count': 251, 'prompt_eval_duration': 77092000, 'eval_count': 35, 'eval_duration': 337965000, 'message': Message(role='assistant', content='你好，王五！你在广州生活一定很愉快。想查询一下广州当前的天气情况吗？如果不想查天气的话，我们也可以聊其他话题。', images=None, tool_calls=None)}, id='run-a5ba18b5-f766-42d5-8491-2309ce957961-0', usage_metadata={'input_tokens': 251, 'output_tokens': 35, 'total_tokens': 286})]}}\n",
      "----\n"
     ]
    }
   ],
   "source": [
    "# Use the agent\n",
    "config = {\"configurable\": {\"thread_id\": \"abc123\"}}\n",
    "for chunk in agent_executor.stream(\n",
    "    {\"messages\": [HumanMessage(content=\"你好，我是王五，我住在广州\")]}, config\n",
    "):\n",
    "    print(chunk)\n",
    "    print(\"----\")"
   ]
  },
  {
   "cell_type": "code",
   "execution_count": 7,
   "metadata": {},
   "outputs": [
    {
     "name": "stdout",
     "output_type": "stream",
     "text": [
      "{'agent': {'messages': [AIMessage(content='', additional_kwargs={}, response_metadata={'model': 'qwen2.5:latest', 'created_at': '2024-12-02T00:53:03.732086229Z', 'done': True, 'done_reason': 'stop', 'total_duration': 664620284, 'load_duration': 31383244, 'prompt_eval_count': 305, 'prompt_eval_duration': 45418000, 'eval_count': 30, 'eval_duration': 289704000, 'message': Message(role='assistant', content='', images=None, tool_calls=[ToolCall(function=Function(name='tavily_search_results_json', arguments={'query': '北京 明天 旅游景点'}))])}, id='run-51b7c922-359e-4b3e-b074-8a0a7ed5e32d-0', tool_calls=[{'name': 'tavily_search_results_json', 'args': {'query': '北京 明天 旅游景点'}, 'id': '1fe8d1de-d78c-471d-ad00-832e7495f50e', 'type': 'tool_call'}], usage_metadata={'input_tokens': 305, 'output_tokens': 30, 'total_tokens': 335})]}}\n",
      "----\n",
      "{'tools': {'messages': [ToolMessage(content='[{\"url\": \"https://you.ctrip.com/sight/beijing1.html\", \"content\": \"北京旅游景点大全，携程攻略社区! 告诉您北京有哪些热门旅游景点及旅游必去景点，提供北京旅游景点介绍、图片、门票、点评、景点排名推荐，了解更多著名北京旅游景点排行及景点大全信息就来携程旅游攻略。 ... 可订明日. 赏秋景. 中关村\"}, {\"url\": \"https://www.visitbeijing.com.cn/article/4IrWXdsMOCO\", \"content\": \"北京旅游必去的20个景点 首页 文化北京 展览 演出 影视 特色文化 红色文化 京味文化 创新文化 畅游北京 游玩 住宿 旅游地图 周末去哪玩 民宿大全 旅游手册 景区 线路 酒店 北京老字号 北京礼物 开放日 旅游行业信用信息 旅行社 一日游 北京旅游专家 《旅游》杂志 环游号 咨询站 北京旅游必去的20个景点 北京旅游网综合 一天安门广场 二故宫 故宫，又称紫禁城，是明清两代的皇家宫殿，也是世界上现存规模最大、保存最为完整的木质结构古建筑之一。故宫的建筑风格宏伟壮丽，黄琉璃瓦顶、青白石底座，饰以金碧辉煌的彩画，体现了中国古代建筑的精华。游客在游览故宫时，不仅可以欣赏到古代皇家建筑的辉煌，还能领略到古代宫廷文化的深厚底蕴。 八达岭长城是明长城的重要组成部分，位于北京市延庆区军都山关沟古道北口。八达岭长城以其雄伟壮观、气势磅礴而著称，是长城中最具代表性的一段。游客在此可以登上长城，俯瞰群山峻岭，感受古代劳动人民的智慧与勇气。 四颐和园 五天坛公园 天坛公园是明清两代皇帝祭天、祈谷的地方，也是中国传统文化的象征之一。公园内的祈年殿、圜丘坛等建筑气势恢宏、古朴典雅，体现了中国古代建筑的独特魅力。游客在此可以了解到古代皇家祭祀文化的内涵，还可以感受到中国传统文化的博大精深。 六圆明园遗址公园 圆明园曾是清朝皇家的夏季别墅，被誉为“万园之园”。然而，在第二次鸦片战争期间，圆明园遭到英法联军的烧毁，如今只存有残垣断壁。游客在游览圆明园遗址公园时，可以感受到历史的沧桑与沉重，也可以了解到中国近代史的一段屈辱历史。 七恭王府 恭王府是清朝恭亲王奕䜣的府邸，也是北京现存最完整的清代王府建筑群之一。恭王府的建筑风格独特，既有宫廷建筑的严谨有序，又有江南园林的精巧别致。游客在此可以欣赏到古代王府建筑的精美之处，还可以了解到清朝皇室的生活和文化。 八北海公园 北海公园是北京最古老的皇家园林之一，也是中国现存最悠久的皇家园林之一。公园内的琼华岛、白塔等景点风景秀丽、古色古香，是游客休闲游玩的好去处。此外，北海公园还是北京市民休闲娱乐的重要场所之一，每天都吸引着大量游客前来参观游览。 九鸟巢与水立方 鸟巢与水立方是2008年北京奥运会的主体育场和游泳馆，也是北京的新地标之一。鸟巢以其独特的钢结构设计和造型而著称，水立方则以其蓝色的外观和独特的建筑形态吸引了无数游客的目光。游客在此可以了解到北京奥运会的历史和文化内涵，还可以感受到现代建筑艺术的魅力。 十798艺术区 798艺术区是北京的艺术圣地之一，以其独特的工业建筑风格和多样化的艺术展览而闻名于世。在这里，游客可以欣赏到各种形式的当代艺术作品，与艺术家亲密接触，感受到前卫艺术的魅力。此外，798艺术区还是北京时尚文化的代表之一，吸引了大量年轻人前来打卡拍照 十一北京动物园 北京动物园是中国最大的动物园之一，拥有众多珍稀动物和植物品种。游客在此可以近距离观赏到大熊猫、金丝猴等珍稀动物的风采，还可以了解到动物的生活习性和保护知识。 十二雍和宫 雍和宫是清朝雍正皇帝的府邸和后来的喇嘛庙，也是北京最大的藏传佛教寺庙之一。游客在此可以领略到藏传佛教文化的独特魅力，还可以欣赏到精美的佛教艺术品。 十三南锣鼓巷 南锣鼓巷是北京最具特色的历史文化街区之一，以其独特的四合院建筑和丰富的商业文化而闻名于世。游客在此可以感受到老北京的风情和生活气息，还可以品尝到各种地道的北京小吃。 十四王府井大街 十六香山公园 十七景山公园 北京科技馆是一个集科普教育、科技交流和休闲娱乐为一体的综合性科技馆。馆内设有众多科技展览和互动体验项目，旨在提高公众的科学素养和科技兴趣。游客在此可以了解到最新的科技发展和应用成果，还可以亲身参与到各种科技体验活动中来。 十九中国国家博物馆 中国国家博物馆是中国最大的综合性博物馆之一，收藏了丰富的历史文物和艺术品。馆内设有多个展厅和专题展览区，展示了中国悠久的历史文化和艺术瑰宝。游客在此可以了解到中国古代文明的辉煌成就和现代社会的发展变迁。 二十北京欢乐谷 总之，北京作为一座历史悠久、文化丰富的城市，拥有众多值得一游的景点。无论您是喜欢历史文化、自然风光还是现代娱乐的游客，都能在北京找到适合自己的旅游目的地。 原创声明：本文是北京旅游网原创文章,其最终版权仍归北京旅游网所有，转载请注明来自北京旅游网 征文启事 为能让网友分享自己美好旅途，记录旅途美好回忆，北京旅游网特面向全球网友公开征集文旅类稿件。范围涵括吃喝玩乐游购娱展演等属于文旅范畴的内容均可，形式图文、视频均可。 稿件必须原创。稿件一经采用，即有机会获得景区门票、精美礼品，更有机会参与北京旅游网年终盛典活动。 投稿邮箱：tougao@visitbeijing.com.cn 咨询QQ：490768046 79年前的今天，我们胜利了阅读 草坪+夕阳+音乐会，有的还免费 | 镜头里的北京·一周精选 新开业！北京又添“神仙级”休闲打卡地 又成取景地！还拥有北京“最北”，秋游约起—— 这里的“丛林滑道”太好玩啦 | 周末去哪 够潮够city！这些活动热度爆表—— 上新！高颜值！去这些地方解锁初秋京城“松弛感”，有的还免费—— 分享到微信朋友圈 使用“扫一扫”即可将网页分享至朋友圈。 短信获取验证码 获取验证码 登录 用户无需注册即可快捷登录，登录后可申请成为作家 2开学第一课 看了吗？ 3坐上《往往》的时光机，让我也看看你的少年时光 4“如雁来栖•京秋阅书集”即将来袭，这个中秋来雁栖一起逛书市！ 579年前的今天，我们胜利了 69月4日天安门广场升旗仪式观看指南 7舌尖上的天津：八大特色小吃，让人垂涎欲滴 8北京8大名菜大揭秘！你尝试过几种？网友：京帮菜真的太好吃啦 9收藏！北京六大特色美食，每一口都充满了经典的味道 10盘点天津六道好吃的特色名菜，口水直流，你被种草了吗？ 专题推荐 文化北京 关于北京旅游网/商务合作/网站声明/隐私政策/联系我们 版权所有：北京市文化和旅游局宣传中心（北京市旅游运行监测中心）\"}]', name='tavily_search_results_json', id='9429dbe7-bef9-4820-a1f9-9410aee5dba0', tool_call_id='1fe8d1de-d78c-471d-ad00-832e7495f50e', artifact={'query': '北京 明天 旅游景点', 'follow_up_questions': None, 'answer': None, 'images': [], 'results': [{'title': '北京旅游景点攻略_北京打卡/必去景点大全/排名/推荐【携程攻略】', 'url': 'https://you.ctrip.com/sight/beijing1.html', 'content': '北京旅游景点大全，携程攻略社区! 告诉您北京有哪些热门旅游景点及旅游必去景点，提供北京旅游景点介绍、图片、门票、点评、景点排名推荐，了解更多著名北京旅游景点排行及景点大全信息就来携程旅游攻略。 ... 可订明日. 赏秋景. 中关村', 'score': 0.99958915, 'raw_content': None}, {'title': '北京旅游必去的20个景点', 'url': 'https://www.visitbeijing.com.cn/article/4IrWXdsMOCO', 'content': '北京旅游必去的20个景点 首页 文化北京 展览 演出 影视 特色文化 红色文化 京味文化 创新文化 畅游北京 游玩 住宿 旅游地图 周末去哪玩 民宿大全 旅游手册 景区 线路 酒店 北京老字号 北京礼物 开放日 旅游行业信用信息 旅行社 一日游 北京旅游专家 《旅游》杂志 环游号 咨询站 北京旅游必去的20个景点 北京旅游网综合 一天安门广场 二故宫 故宫，又称紫禁城，是明清两代的皇家宫殿，也是世界上现存规模最大、保存最为完整的木质结构古建筑之一。故宫的建筑风格宏伟壮丽，黄琉璃瓦顶、青白石底座，饰以金碧辉煌的彩画，体现了中国古代建筑的精华。游客在游览故宫时，不仅可以欣赏到古代皇家建筑的辉煌，还能领略到古代宫廷文化的深厚底蕴。 八达岭长城是明长城的重要组成部分，位于北京市延庆区军都山关沟古道北口。八达岭长城以其雄伟壮观、气势磅礴而著称，是长城中最具代表性的一段。游客在此可以登上长城，俯瞰群山峻岭，感受古代劳动人民的智慧与勇气。 四颐和园 五天坛公园 天坛公园是明清两代皇帝祭天、祈谷的地方，也是中国传统文化的象征之一。公园内的祈年殿、圜丘坛等建筑气势恢宏、古朴典雅，体现了中国古代建筑的独特魅力。游客在此可以了解到古代皇家祭祀文化的内涵，还可以感受到中国传统文化的博大精深。 六圆明园遗址公园 圆明园曾是清朝皇家的夏季别墅，被誉为“万园之园”。然而，在第二次鸦片战争期间，圆明园遭到英法联军的烧毁，如今只存有残垣断壁。游客在游览圆明园遗址公园时，可以感受到历史的沧桑与沉重，也可以了解到中国近代史的一段屈辱历史。 七恭王府 恭王府是清朝恭亲王奕䜣的府邸，也是北京现存最完整的清代王府建筑群之一。恭王府的建筑风格独特，既有宫廷建筑的严谨有序，又有江南园林的精巧别致。游客在此可以欣赏到古代王府建筑的精美之处，还可以了解到清朝皇室的生活和文化。 八北海公园 北海公园是北京最古老的皇家园林之一，也是中国现存最悠久的皇家园林之一。公园内的琼华岛、白塔等景点风景秀丽、古色古香，是游客休闲游玩的好去处。此外，北海公园还是北京市民休闲娱乐的重要场所之一，每天都吸引着大量游客前来参观游览。 九鸟巢与水立方 鸟巢与水立方是2008年北京奥运会的主体育场和游泳馆，也是北京的新地标之一。鸟巢以其独特的钢结构设计和造型而著称，水立方则以其蓝色的外观和独特的建筑形态吸引了无数游客的目光。游客在此可以了解到北京奥运会的历史和文化内涵，还可以感受到现代建筑艺术的魅力。 十798艺术区 798艺术区是北京的艺术圣地之一，以其独特的工业建筑风格和多样化的艺术展览而闻名于世。在这里，游客可以欣赏到各种形式的当代艺术作品，与艺术家亲密接触，感受到前卫艺术的魅力。此外，798艺术区还是北京时尚文化的代表之一，吸引了大量年轻人前来打卡拍照 十一北京动物园 北京动物园是中国最大的动物园之一，拥有众多珍稀动物和植物品种。游客在此可以近距离观赏到大熊猫、金丝猴等珍稀动物的风采，还可以了解到动物的生活习性和保护知识。 十二雍和宫 雍和宫是清朝雍正皇帝的府邸和后来的喇嘛庙，也是北京最大的藏传佛教寺庙之一。游客在此可以领略到藏传佛教文化的独特魅力，还可以欣赏到精美的佛教艺术品。 十三南锣鼓巷 南锣鼓巷是北京最具特色的历史文化街区之一，以其独特的四合院建筑和丰富的商业文化而闻名于世。游客在此可以感受到老北京的风情和生活气息，还可以品尝到各种地道的北京小吃。 十四王府井大街 十六香山公园 十七景山公园 北京科技馆是一个集科普教育、科技交流和休闲娱乐为一体的综合性科技馆。馆内设有众多科技展览和互动体验项目，旨在提高公众的科学素养和科技兴趣。游客在此可以了解到最新的科技发展和应用成果，还可以亲身参与到各种科技体验活动中来。 十九中国国家博物馆 中国国家博物馆是中国最大的综合性博物馆之一，收藏了丰富的历史文物和艺术品。馆内设有多个展厅和专题展览区，展示了中国悠久的历史文化和艺术瑰宝。游客在此可以了解到中国古代文明的辉煌成就和现代社会的发展变迁。 二十北京欢乐谷 总之，北京作为一座历史悠久、文化丰富的城市，拥有众多值得一游的景点。无论您是喜欢历史文化、自然风光还是现代娱乐的游客，都能在北京找到适合自己的旅游目的地。 原创声明：本文是北京旅游网原创文章,其最终版权仍归北京旅游网所有，转载请注明来自北京旅游网 征文启事 为能让网友分享自己美好旅途，记录旅途美好回忆，北京旅游网特面向全球网友公开征集文旅类稿件。范围涵括吃喝玩乐游购娱展演等属于文旅范畴的内容均可，形式图文、视频均可。 稿件必须原创。稿件一经采用，即有机会获得景区门票、精美礼品，更有机会参与北京旅游网年终盛典活动。 投稿邮箱：tougao@visitbeijing.com.cn 咨询QQ：490768046 79年前的今天，我们胜利了阅读 草坪+夕阳+音乐会，有的还免费 | 镜头里的北京·一周精选 新开业！北京又添“神仙级”休闲打卡地 又成取景地！还拥有北京“最北”，秋游约起—— 这里的“丛林滑道”太好玩啦 | 周末去哪 够潮够city！这些活动热度爆表—— 上新！高颜值！去这些地方解锁初秋京城“松弛感”，有的还免费—— 分享到微信朋友圈 使用“扫一扫”即可将网页分享至朋友圈。 短信获取验证码 获取验证码 登录 用户无需注册即可快捷登录，登录后可申请成为作家 2开学第一课 看了吗？ 3坐上《往往》的时光机，让我也看看你的少年时光 4“如雁来栖•京秋阅书集”即将来袭，这个中秋来雁栖一起逛书市！ 579年前的今天，我们胜利了 69月4日天安门广场升旗仪式观看指南 7舌尖上的天津：八大特色小吃，让人垂涎欲滴 8北京8大名菜大揭秘！你尝试过几种？网友：京帮菜真的太好吃啦 9收藏！北京六大特色美食，每一口都充满了经典的味道 10盘点天津六道好吃的特色名菜，口水直流，你被种草了吗？ 专题推荐 文化北京 关于北京旅游网/商务合作/网站声明/隐私政策/联系我们 版权所有：北京市文化和旅游局宣传中心（北京市旅游运行监测中心）', 'score': 0.9980276, 'raw_content': None}], 'response_time': 1.31})]}}\n",
      "----\n",
      "{'agent': {'messages': [AIMessage(content='根据搜索结果，明天去北京旅游的话，可以考虑参观以下景点：\\n\\n1. **鸟巢与水立方** - 这两个地标是2008年奥运会的主体育场和游泳馆。鸟巢以其独特的钢结构设计著称，而水立方则以蓝色外观吸引游客。\\n\\n2. **798艺术区** - 是北京的艺术圣地之一，这里的工业建筑风格和多样化的艺术展览值得一游。\\n\\n3. **南锣鼓巷** - 体验老北京风情和特色四合院。这里还有丰富的商业文化和地道的北京小吃。\\n\\n4. **北京动物园** - 可近距离观赏大熊猫、金丝猴等珍稀动物，并了解它们的生活习性和保护知识。\\n\\n5. **雍和宫** - 这座藏传佛教寺庙展示了藏传佛教文化的独特魅力，还能欣赏到精美的艺术品。\\n\\n6. **中国国家博物馆** - 是一个综合性博物馆，收藏了丰富的历史文物和艺术品，可以深入了解中国古代文明及现代发展变迁。\\n\\n7. **北京欢乐谷** - 提供各种游乐设施和娱乐活动，适合全家游玩。\\n\\n此外，还可以去天安门广场观看升旗仪式，或参加音乐会、摄影等活动。希望这些信息对你有帮助！', additional_kwargs={}, response_metadata={'model': 'qwen2.5:latest', 'created_at': '2024-12-02T00:53:10.563428146Z', 'done': True, 'done_reason': 'stop', 'total_duration': 3652345216, 'load_duration': 50194805, 'prompt_eval_count': 2039, 'prompt_eval_duration': 471562000, 'eval_count': 259, 'eval_duration': 2786916000, 'message': Message(role='assistant', content='根据搜索结果，明天去北京旅游的话，可以考虑参观以下景点：\\n\\n1. **鸟巢与水立方** - 这两个地标是2008年奥运会的主体育场和游泳馆。鸟巢以其独特的钢结构设计著称，而水立方则以蓝色外观吸引游客。\\n\\n2. **798艺术区** - 是北京的艺术圣地之一，这里的工业建筑风格和多样化的艺术展览值得一游。\\n\\n3. **南锣鼓巷** - 体验老北京风情和特色四合院。这里还有丰富的商业文化和地道的北京小吃。\\n\\n4. **北京动物园** - 可近距离观赏大熊猫、金丝猴等珍稀动物，并了解它们的生活习性和保护知识。\\n\\n5. **雍和宫** - 这座藏传佛教寺庙展示了藏传佛教文化的独特魅力，还能欣赏到精美的艺术品。\\n\\n6. **中国国家博物馆** - 是一个综合性博物馆，收藏了丰富的历史文物和艺术品，可以深入了解中国古代文明及现代发展变迁。\\n\\n7. **北京欢乐谷** - 提供各种游乐设施和娱乐活动，适合全家游玩。\\n\\n此外，还可以去天安门广场观看升旗仪式，或参加音乐会、摄影等活动。希望这些信息对你有帮助！', images=None, tool_calls=None)}, id='run-095bf4a5-63f4-4384-a019-077d46e240ad-0', usage_metadata={'input_tokens': 2039, 'output_tokens': 259, 'total_tokens': 2298})]}}\n",
      "----\n"
     ]
    }
   ],
   "source": [
    "for chunk in agent_executor.stream(\n",
    "    {\"messages\": [HumanMessage(content=\"明天我准备去北京旅游，适合去哪里游玩\")]}, config\n",
    "):\n",
    "    print(chunk)\n",
    "    print(\"----\")"
   ]
  },
  {
   "cell_type": "code",
   "execution_count": 8,
   "metadata": {},
   "outputs": [
    {
     "name": "stdout",
     "output_type": "stream",
     "text": [
      "{'agent': {'messages': [AIMessage(content='', additional_kwargs={}, response_metadata={'model': 'qwen2.5:latest', 'created_at': '2024-12-02T00:53:25.615388721Z', 'done': True, 'done_reason': 'stop', 'total_duration': 863429075, 'load_duration': 108520424, 'prompt_eval_count': 539, 'prompt_eval_duration': 152138000, 'eval_count': 41, 'eval_duration': 401491000, 'message': Message(role='assistant', content='', images=None, tool_calls=[ToolCall(function=Function(name='get_weather', arguments={'city_name': '上海'}))])}, id='run-b468291d-c48d-4181-8b68-b710c281ead3-0', tool_calls=[{'name': 'get_weather', 'args': {'city_name': '上海'}, 'id': '1700eab4-b74c-412a-8307-dc95d2fd6807', 'type': 'tool_call'}], usage_metadata={'input_tokens': 539, 'output_tokens': 41, 'total_tokens': 580})]}}\n",
      "----\n",
      "{'tools': {'messages': [ToolMessage(content='{\"status\": \"1\", \"count\": \"1\", \"info\": \"OK\", \"infocode\": \"10000\", \"forecasts\": [{\"city\": \"上海市\", \"adcode\": \"310000\", \"province\": \"上海\", \"reporttime\": \"2024-12-02 08:33:17\", \"casts\": [{\"date\": \"2024-12-02\", \"week\": \"1\", \"dayweather\": \"晴\", \"nightweather\": \"晴\", \"daytemp\": \"20\", \"nighttemp\": \"10\", \"daywind\": \"北\", \"nightwind\": \"北\", \"daypower\": \"1-3\", \"nightpower\": \"1-3\", \"daytemp_float\": \"20.0\", \"nighttemp_float\": \"10.0\"}, {\"date\": \"2024-12-03\", \"week\": \"2\", \"dayweather\": \"阴\", \"nightweather\": \"阴\", \"daytemp\": \"16\", \"nighttemp\": \"10\", \"daywind\": \"北\", \"nightwind\": \"北\", \"daypower\": \"1-3\", \"nightpower\": \"1-3\", \"daytemp_float\": \"16.0\", \"nighttemp_float\": \"10.0\"}, {\"date\": \"2024-12-04\", \"week\": \"3\", \"dayweather\": \"阴\", \"nightweather\": \"阴\", \"daytemp\": \"13\", \"nighttemp\": \"9\", \"daywind\": \"北\", \"nightwind\": \"北\", \"daypower\": \"1-3\", \"nightpower\": \"1-3\", \"daytemp_float\": \"13.0\", \"nighttemp_float\": \"9.0\"}, {\"date\": \"2024-12-05\", \"week\": \"4\", \"dayweather\": \"小雨\", \"nightweather\": \"小雨\", \"daytemp\": \"12\", \"nighttemp\": \"7\", \"daywind\": \"北\", \"nightwind\": \"北\", \"daypower\": \"1-3\", \"nightpower\": \"1-3\", \"daytemp_float\": \"12.0\", \"nighttemp_float\": \"7.0\"}]}]}', name='get_weather', id='0ecb369a-d3c7-4598-9409-9da30da13caf', tool_call_id='1700eab4-b74c-412a-8307-dc95d2fd6807')]}}\n",
      "----\n",
      "{'agent': {'messages': [AIMessage(content='根据天气预报，您在上海的前三天会有以下天气情况：\\n\\n- 12月2日：晴朗，适合外出活动。\\n- 12月3日：阴天，气温较低，建议选择室内项目或稍微减少户外活动的时间。\\n- 12月4日：继续为阴天，气温略有下降，请注意保暖。\\n\\n以下是为您规划的三天行程单：\\n\\n### 第一天（2024年12月2日）\\n- 上午：外滩 - 观赏东方明珠和黄浦江美景\\n- 中午：品尝地道上海小吃，如生煎、小笼包等\\n- 下午：参观豫园 - 体验老上海的古典园林艺术\\n- 晚上：人民广场 - 看看世纪大钟，并逛一逛周边的商场\\n\\n### 第二天（2024年12月3日）\\n- 上午：南京路步行街 - 购物、品尝特色美食\\n- 中午：参观上海博物馆 - 了解中国历史文物与艺术品\\n- 下午：田子坊 - 漫步艺术街区，欣赏现代设计作品\\n- 晚上：观看上海大剧院的演出或音乐剧\\n\\n### 第三天（2024年12月4日）\\n- 上午：上海科技馆 - 探索科学与技术的魅力\\n- 中午：品尝上海特色午餐\\n- 下午：参观上海自然博物馆 - 品味生物多样性之美\\n- 晚上：回到市区逛逛，享受城市的夜生活\\n\\n### 注意事项：\\n1. 由于天气预报显示12月5日有小雨，请在最后一天适当调整行程，可选择室内活动或减少外出时间。\\n2. 根据温度变化，请适时增添衣物。\\n\\n希望这个行程单对您有所帮助！祝您在上海有一个愉快的旅程！', additional_kwargs={}, response_metadata={'model': 'qwen2.5:latest', 'created_at': '2024-12-02T00:53:30.758938479Z', 'done': True, 'done_reason': 'stop', 'total_duration': 4786725635, 'load_duration': 88752337, 'prompt_eval_count': 1081, 'prompt_eval_duration': 169040000, 'eval_count': 395, 'eval_duration': 4118673000, 'message': Message(role='assistant', content='根据天气预报，您在上海的前三天会有以下天气情况：\\n\\n- 12月2日：晴朗，适合外出活动。\\n- 12月3日：阴天，气温较低，建议选择室内项目或稍微减少户外活动的时间。\\n- 12月4日：继续为阴天，气温略有下降，请注意保暖。\\n\\n以下是为您规划的三天行程单：\\n\\n### 第一天（2024年12月2日）\\n- 上午：外滩 - 观赏东方明珠和黄浦江美景\\n- 中午：品尝地道上海小吃，如生煎、小笼包等\\n- 下午：参观豫园 - 体验老上海的古典园林艺术\\n- 晚上：人民广场 - 看看世纪大钟，并逛一逛周边的商场\\n\\n### 第二天（2024年12月3日）\\n- 上午：南京路步行街 - 购物、品尝特色美食\\n- 中午：参观上海博物馆 - 了解中国历史文物与艺术品\\n- 下午：田子坊 - 漫步艺术街区，欣赏现代设计作品\\n- 晚上：观看上海大剧院的演出或音乐剧\\n\\n### 第三天（2024年12月4日）\\n- 上午：上海科技馆 - 探索科学与技术的魅力\\n- 中午：品尝上海特色午餐\\n- 下午：参观上海自然博物馆 - 品味生物多样性之美\\n- 晚上：回到市区逛逛，享受城市的夜生活\\n\\n### 注意事项：\\n1. 由于天气预报显示12月5日有小雨，请在最后一天适当调整行程，可选择室内活动或减少外出时间。\\n2. 根据温度变化，请适时增添衣物。\\n\\n希望这个行程单对您有所帮助！祝您在上海有一个愉快的旅程！', images=None, tool_calls=None)}, id='run-0ba0fd6f-e6bc-4b77-92e8-bf6fb9f7a3bd-0', usage_metadata={'input_tokens': 1081, 'output_tokens': 395, 'total_tokens': 1476})]}}\n",
      "----\n"
     ]
    }
   ],
   "source": [
    "for chunk in agent_executor.stream(\n",
    "    {\"messages\": [HumanMessage(content=\"我准备去上海旅游3天，帮我指定一个行程单，首先查询当地的天气，如果下雨，请安排室内项目，如果晴朗，优先安排室外项目\")]}, config\n",
    "):\n",
    "    print(chunk)\n",
    "    print(\"----\")"
   ]
  }
 ],
 "metadata": {
  "kernelspec": {
   "display_name": "base",
   "language": "python",
   "name": "python3"
  },
  "language_info": {
   "codemirror_mode": {
    "name": "ipython",
    "version": 3
   },
   "file_extension": ".py",
   "mimetype": "text/x-python",
   "name": "python",
   "nbconvert_exporter": "python",
   "pygments_lexer": "ipython3",
   "version": "3.10.14"
  }
 },
 "nbformat": 4,
 "nbformat_minor": 4
}
