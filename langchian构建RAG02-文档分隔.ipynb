{
 "cells": [
  {
   "cell_type": "markdown",
   "metadata": {},
   "source": [
    "加载文档后，对文档进行切割，以适配模型的上下文窗口。理想情况下，希望将尽可能相关的语义文本片段放在一起"
   ]
  },
  {
   "cell_type": "markdown",
   "metadata": {},
   "source": [
    "# 按字符分割"
   ]
  },
  {
   "cell_type": "code",
   "execution_count": 4,
   "metadata": {},
   "outputs": [
    {
     "name": "stderr",
     "output_type": "stream",
     "text": [
      "Created a chunk of size 11068, which is longer than the specified 100\n",
      "Created a chunk of size 11122, which is longer than the specified 100\n"
     ]
    },
    {
     "name": "stdout",
     "output_type": "stream",
     "text": [
      "{'source': './documents/三国演义.txt'}\n",
      "page_content='书名：三国演义\n",
      "\n",
      "作者：罗贯中' metadata={'source': './documents/三国演义.txt'}\n"
     ]
    }
   ],
   "source": [
    "from langchain.document_loaders import TextLoader\n",
    "# 定义文本加载器，指定读取的文件路径\n",
    "loader = TextLoader(\"./documents/三国演义.txt\")\n",
    "documents=loader.load()\n",
    "print(documents[0].metadata)\n",
    "\n",
    "\n",
    "from langchain.text_splitter  import CharacterTextSplitter\n",
    "text_splitter = CharacterTextSplitter(chunk_size=100,chunk_overlap=20)\n",
    "split_documents=text_splitter.split_documents(documents)\n",
    "print(split_documents[0])"
   ]
  },
  {
   "cell_type": "markdown",
   "metadata": {},
   "source": [
    "# 递归按字符切割\n",
    "\n",
    "此文本分割器是通用文本的推荐分割器。它通过字符列表进行参数化。它尝试按顺序在其上分割，直到块足够小为止。默认列表是 [\"\\n\\n\", \"\\n\", \" \", \"\"]。这会使所有段落（然后是句子，然后是单词）尽可能地保持在一起，因为这些通常似乎是文本中最强的语义相关部分"
   ]
  },
  {
   "cell_type": "code",
   "execution_count": 4,
   "metadata": {},
   "outputs": [
    {
     "name": "stdout",
     "output_type": "stream",
     "text": [
      "{'source': './documents/三国演义.txt'}\n",
      "[Document(metadata={'source': './documents/三国演义.txt'}, page_content='书名：三国演义\\n\\n作者：罗贯中'), Document(metadata={'source': './documents/三国演义.txt'}, page_content='第一回\\n宴桃园豪杰三结义\\n斩黄巾英雄首立功\\n词曰：\\n滚滚长江东逝水，浪花淘尽英雄。是非成败转头空。青山依旧在，几度夕阳红。 白发渔樵江渚上，惯看秋月春风。一壶浊酒喜相逢。古今多少事，都付笑谈中。')]\n"
     ]
    }
   ],
   "source": [
    "from langchain.document_loaders import TextLoader\n",
    "# 定义文本加载器，指定读取的文件路径\n",
    "loader = TextLoader(\"./documents/三国演义.txt\")\n",
    "documents=loader.load()\n",
    "print(documents[0].metadata)\n",
    "\n",
    "\n",
    "from langchain.text_splitter  import RecursiveCharacterTextSplitter\n",
    "text_splitter = RecursiveCharacterTextSplitter(chunk_size=100,chunk_overlap=20,separators=[\n",
    "                                                \"\\n\\n\",\n",
    "                                                \"\\n\",\n",
    "                                                \" \",\n",
    "                                                \".\",\n",
    "                                                \",\",\n",
    "                                                \"\\u200b\",  # Zero-width space\n",
    "                                                \"\\uff0c\",  # Fullwidth comma\n",
    "                                                \"\\u3001\",  # Ideographic comma\n",
    "                                                \"\\uff0e\",  # Fullwidth full stop\n",
    "                                                \"\\u3002\",  # Ideographic full stop\n",
    "                                                \"\",\n",
    "                                            ])\n",
    "split_documents=text_splitter.split_documents(documents)\n",
    "print(split_documents[0:2])"
   ]
  }
 ],
 "metadata": {
  "kernelspec": {
   "display_name": "langchian",
   "language": "python",
   "name": "python3"
  },
  "language_info": {
   "codemirror_mode": {
    "name": "ipython",
    "version": 3
   },
   "file_extension": ".py",
   "mimetype": "text/x-python",
   "name": "python",
   "nbconvert_exporter": "python",
   "pygments_lexer": "ipython3",
   "version": "3.10.14"
  }
 },
 "nbformat": 4,
 "nbformat_minor": 2
}
